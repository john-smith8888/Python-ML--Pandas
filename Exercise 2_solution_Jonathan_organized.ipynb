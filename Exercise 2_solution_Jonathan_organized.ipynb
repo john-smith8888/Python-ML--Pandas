{
 "cells": [
  {
   "cell_type": "markdown",
   "id": "262ed441-1e2f-4f23-af4e-3c1c0f6dc002",
   "metadata": {},
   "source": [
    "# Pandas Test - Real life exercise"
   ]
  },
  {
   "cell_type": "code",
   "execution_count": 59,
   "id": "e24b34ca-0a21-4dc6-92e4-4b16bcbd5a98",
   "metadata": {},
   "outputs": [],
   "source": [
    "import pandas as pd\n",
    "import itertools"
   ]
  },
  {
   "cell_type": "markdown",
   "id": "ad46fe63-39ad-4b03-b6b6-623586b94d45",
   "metadata": {},
   "source": [
    "For visualizations:"
   ]
  },
  {
   "cell_type": "code",
   "execution_count": 90,
   "id": "58bd46da-da6c-44d0-903f-19be230836e5",
   "metadata": {},
   "outputs": [
    {
     "data": {
      "text/html": [
       "        <script type=\"text/javascript\">\n",
       "        window.PlotlyConfig = {MathJaxConfig: 'local'};\n",
       "        if (window.MathJax) {MathJax.Hub.Config({SVG: {font: \"STIX-Web\"}});}\n",
       "        if (typeof require !== 'undefined') {\n",
       "        require.undef(\"plotly\");\n",
       "        requirejs.config({\n",
       "            paths: {\n",
       "                'plotly': ['https://cdn.plot.ly/plotly-2.9.0.min']\n",
       "            }\n",
       "        });\n",
       "        require(['plotly'], function(Plotly) {\n",
       "            window._Plotly = Plotly;\n",
       "        });\n",
       "        }\n",
       "        </script>\n",
       "        "
      ]
     },
     "metadata": {},
     "output_type": "display_data"
    }
   ],
   "source": [
    "import cufflinks as cf; cf.go_offline()\n",
    "import plotly_express as px"
   ]
  },
  {
   "cell_type": "code",
   "execution_count": 30,
   "id": "71b69819-00b8-4612-bd2f-49bab7b7ab13",
   "metadata": {},
   "outputs": [
    {
     "data": {
      "text/html": [
       "<div>\n",
       "<style scoped>\n",
       "    .dataframe tbody tr th:only-of-type {\n",
       "        vertical-align: middle;\n",
       "    }\n",
       "\n",
       "    .dataframe tbody tr th {\n",
       "        vertical-align: top;\n",
       "    }\n",
       "\n",
       "    .dataframe thead th {\n",
       "        text-align: right;\n",
       "    }\n",
       "</style>\n",
       "<table border=\"1\" class=\"dataframe\">\n",
       "  <thead>\n",
       "    <tr style=\"text-align: right;\">\n",
       "      <th></th>\n",
       "      <th>week_id</th>\n",
       "      <th>ad_id</th>\n",
       "      <th>requester</th>\n",
       "      <th>region</th>\n",
       "      <th>is_success</th>\n",
       "      <th>is_sever</th>\n",
       "      <th>recommendation_type</th>\n",
       "      <th>rec_provider</th>\n",
       "    </tr>\n",
       "  </thead>\n",
       "  <tbody>\n",
       "    <tr>\n",
       "      <th>284462</th>\n",
       "      <td>2022-week_01</td>\n",
       "      <td>AD08G88NPJ</td>\n",
       "      <td>Extreme DA</td>\n",
       "      <td>US</td>\n",
       "      <td>yes</td>\n",
       "      <td>NaN</td>\n",
       "      <td>Yield</td>\n",
       "      <td>RNNY</td>\n",
       "    </tr>\n",
       "    <tr>\n",
       "      <th>294531</th>\n",
       "      <td>2022-week_02</td>\n",
       "      <td>AD08LZZ87M</td>\n",
       "      <td>Puentes Company</td>\n",
       "      <td>IN</td>\n",
       "      <td>yes</td>\n",
       "      <td>NaN</td>\n",
       "      <td>Yield</td>\n",
       "      <td>UserPopY</td>\n",
       "    </tr>\n",
       "    <tr>\n",
       "      <th>278152</th>\n",
       "      <td>2022-week_01</td>\n",
       "      <td>AD08PG68WL</td>\n",
       "      <td>MoJoe Brewing Company</td>\n",
       "      <td>IN</td>\n",
       "      <td>no</td>\n",
       "      <td>True</td>\n",
       "      <td>Yield</td>\n",
       "      <td>UserPopY</td>\n",
       "    </tr>\n",
       "    <tr>\n",
       "      <th>306199</th>\n",
       "      <td>2022-week_03</td>\n",
       "      <td>AD078CWTPG</td>\n",
       "      <td>MoJoe Brewing Company</td>\n",
       "      <td>IN</td>\n",
       "      <td>no</td>\n",
       "      <td>True</td>\n",
       "      <td>Yield</td>\n",
       "      <td>UserPopY</td>\n",
       "    </tr>\n",
       "    <tr>\n",
       "      <th>282827</th>\n",
       "      <td>2022-week_01</td>\n",
       "      <td>AD08P86L8K</td>\n",
       "      <td>Extreme DA</td>\n",
       "      <td>US</td>\n",
       "      <td>yes</td>\n",
       "      <td>NaN</td>\n",
       "      <td>Yield</td>\n",
       "      <td>RNNY</td>\n",
       "    </tr>\n",
       "  </tbody>\n",
       "</table>\n",
       "</div>"
      ],
      "text/plain": [
       "             week_id       ad_id              requester region is_success  \\\n",
       "284462  2022-week_01  AD08G88NPJ             Extreme DA     US        yes   \n",
       "294531  2022-week_02  AD08LZZ87M        Puentes Company     IN        yes   \n",
       "278152  2022-week_01  AD08PG68WL  MoJoe Brewing Company     IN         no   \n",
       "306199  2022-week_03  AD078CWTPG  MoJoe Brewing Company     IN         no   \n",
       "282827  2022-week_01  AD08P86L8K             Extreme DA     US        yes   \n",
       "\n",
       "       is_sever recommendation_type rec_provider  \n",
       "284462      NaN               Yield         RNNY  \n",
       "294531      NaN               Yield     UserPopY  \n",
       "278152     True               Yield     UserPopY  \n",
       "306199     True               Yield     UserPopY  \n",
       "282827      NaN               Yield         RNNY  "
      ]
     },
     "execution_count": 30,
     "metadata": {},
     "output_type": "execute_result"
    }
   ],
   "source": [
    "ad_recs_annotated = pd.read_csv('data/ad_annotations.csv')\n",
    "ad_recs_annotated.sample(5)"
   ]
  },
  {
   "cell_type": "markdown",
   "id": "c0ed5ec1-d7b3-49a6-bf12-29420eab3a67",
   "metadata": {
    "tags": []
   },
   "source": [
    "### Data Modifications"
   ]
  },
  {
   "cell_type": "code",
   "execution_count": 128,
   "id": "971c56c7-5d0e-4f2e-8910-05068dff9e0b",
   "metadata": {
    "tags": []
   },
   "outputs": [],
   "source": [
    "ad_recs_annotated['week_number'] = ad_recs_annotated.week_id.apply(lambda x: int(x.split('_')[1]))"
   ]
  },
  {
   "cell_type": "markdown",
   "id": "c1fa8741-5ca4-4478-ac82-981f171843f3",
   "metadata": {
    "jp-MarkdownHeadingCollapsed": true,
    "tags": []
   },
   "source": [
    "#### Q1 - Add a column with the sample year"
   ]
  },
  {
   "cell_type": "code",
   "execution_count": 53,
   "id": "b714a1d8-136b-46c5-b8cf-a2bdb8a81e4d",
   "metadata": {
    "tags": []
   },
   "outputs": [],
   "source": [
    "ad_recs_annotated['year'] = ad_recs_annotated.week_id.apply(lambda row: str(row)[:4]) # first question"
   ]
  },
  {
   "cell_type": "markdown",
   "id": "8dd16455-82c6-4a77-ba8f-183de5ca6ead",
   "metadata": {
    "jp-MarkdownHeadingCollapsed": true,
    "tags": []
   },
   "source": [
    "#### Q2 - Add a column with the sample quarter (google how to)"
   ]
  },
  {
   "cell_type": "code",
   "execution_count": 33,
   "id": "c34aaa9e-dd6c-45a2-8450-ffe79bfabd47",
   "metadata": {},
   "outputs": [],
   "source": [
    "ad_recs_annotated['quarter'] = ad_recs_annotated.week_id.apply(lambda w: int(w.split('_')[1]) // 13 + 1)"
   ]
  },
  {
   "cell_type": "markdown",
   "id": "48c1c472-d215-44d1-b5fa-d14186e3d976",
   "metadata": {
    "jp-MarkdownHeadingCollapsed": true,
    "tags": []
   },
   "source": [
    "#### Q3 - Add a new success column with values 1 and 0 for yes and no "
   ]
  },
  {
   "cell_type": "code",
   "execution_count": 34,
   "id": "1fc15808-1e3a-424d-a547-47b6dee38068",
   "metadata": {
    "tags": []
   },
   "outputs": [],
   "source": [
    "ad_recs_annotated['new_success_col'] = ad_recs_annotated.is_success.apply(lambda row: 1 if row=='yes' else 0) # third question"
   ]
  },
  {
   "cell_type": "markdown",
   "id": "775551d0-a9e9-4b98-9840-f9017421d26c",
   "metadata": {
    "jp-MarkdownHeadingCollapsed": true,
    "tags": []
   },
   "source": [
    "#### Q4"
   ]
  },
  {
   "cell_type": "markdown",
   "id": "c53c0b45-051f-439f-8602-1bb8321e8121",
   "metadata": {},
   "source": [
    "Are there any NaNs in the is_sever column? Count how many and create a new column with NaNs filled as False. Check that indeed the new column contaion no NaNs."
   ]
  },
  {
   "cell_type": "code",
   "execution_count": 35,
   "id": "1d2ecb51-93a5-427b-910b-5011cf5aeb38",
   "metadata": {},
   "outputs": [
    {
     "data": {
      "text/plain": [
       "304195"
      ]
     },
     "execution_count": 35,
     "metadata": {},
     "output_type": "execute_result"
    }
   ],
   "source": [
    "ad_recs_annotated.is_sever.isnull().sum() # Yes, we have NaNs"
   ]
  },
  {
   "cell_type": "code",
   "execution_count": 36,
   "id": "78700cca-6458-4707-915a-7b02439c1d26",
   "metadata": {},
   "outputs": [],
   "source": [
    "ad_recs_annotated['is_severe_fixed'] = ad_recs_annotated.is_sever.fillna(False)"
   ]
  },
  {
   "cell_type": "code",
   "execution_count": 37,
   "id": "67ed7d02-b489-4cf3-9e27-e56f9ee6916e",
   "metadata": {},
   "outputs": [
    {
     "data": {
      "text/plain": [
       "0"
      ]
     },
     "execution_count": 37,
     "metadata": {},
     "output_type": "execute_result"
    }
   ],
   "source": [
    "ad_recs_annotated['is_severe_fixed'].isnull().sum()"
   ]
  },
  {
   "cell_type": "markdown",
   "id": "a38f8509-e596-43d8-b0c1-15e323cc4838",
   "metadata": {
    "tags": []
   },
   "source": [
    "#### Q5 - Capitlize (first letter only) the is_success columnsum"
   ]
  },
  {
   "cell_type": "code",
   "execution_count": 38,
   "id": "d9c461a3-2f0b-41a5-a42c-19b5bbfdfaef",
   "metadata": {},
   "outputs": [
    {
     "data": {
      "text/plain": [
       "0    Yes\n",
       "1    Yes\n",
       "2    Yes\n",
       "3    Yes\n",
       "4    Yes\n",
       "Name: is_success_capital, dtype: object"
      ]
     },
     "execution_count": 38,
     "metadata": {},
     "output_type": "execute_result"
    }
   ],
   "source": [
    "ad_recs_annotated['is_success_capital'] = ad_recs_annotated['is_success'].str.capitalize()\n",
    "ad_recs_annotated.is_success_capital.head()"
   ]
  },
  {
   "cell_type": "markdown",
   "id": "8db18aad-c8b8-4fd4-994f-c008f279e1f6",
   "metadata": {},
   "source": [
    "* Are there duplicated ads? To compac the data, remove duplicated ads and instead add an ad_count column **(pay attention, this is not trivial at all)**"
   ]
  },
  {
   "cell_type": "code",
   "execution_count": null,
   "id": "65186669-24ca-4067-a044-ffe93c4ec0dc",
   "metadata": {},
   "outputs": [],
   "source": [
    "ad_counts = ad_recs_annotated.groupby(['ad_id', 'week_id']).size().reset_index().rename(columns={0:'count'})\n",
    "ad_counts.sort_values(by='count', ascending=False)[:5]\n",
    "def count_to_ad(row):\n",
    "    return ad_counts.query(f'ad_id == \"{row.ad_id}\" and week_id == \"{row.week_id}\"')['count']\n",
    "# count_to_ad()\n",
    "sample_to_test = ad_recs_annotated.sample(2).loc[:,['ad_id','week_id']]\n",
    "ad_count_col = sample_to_test.loc[:,['ad_id','week_id']].apply(count_to_ad,axis=1)\n",
    "ad_count_col.head(1)\n",
    "# ad_counts\n",
    "# sample_to_test"
   ]
  },
  {
   "cell_type": "markdown",
   "id": "e1a4707e-5673-4bec-bf9a-51aaf633b09f",
   "metadata": {
    "tags": []
   },
   "source": [
    "### Subset selection"
   ]
  },
  {
   "cell_type": "markdown",
   "id": "1712ee52-8614-4c0d-ae0a-f5fdc848f4b8",
   "metadata": {},
   "source": [
    "#### Q1 - How many requests are there in US region?"
   ]
  },
  {
   "cell_type": "code",
   "execution_count": 39,
   "id": "6c730c29-37f0-458f-8dd5-54af1d018fdb",
   "metadata": {},
   "outputs": [
    {
     "data": {
      "text/plain": [
       "103846"
      ]
     },
     "execution_count": 39,
     "metadata": {},
     "output_type": "execute_result"
    }
   ],
   "source": [
    "ad_recs_annotated[ad_recs_annotated.region=='US'].shape[0] # 1st question"
   ]
  },
  {
   "cell_type": "markdown",
   "id": "6f0f26ab-e0a2-4fbf-9472-6c9a8b7ab2dd",
   "metadata": {},
   "source": [
    "#### Q2 - How many successful requests are there in US region?"
   ]
  },
  {
   "cell_type": "code",
   "execution_count": 40,
   "id": "4e0143dc-6c39-4a62-916e-5fe4342e587b",
   "metadata": {},
   "outputs": [
    {
     "data": {
      "text/plain": [
       "88918"
      ]
     },
     "execution_count": 40,
     "metadata": {},
     "output_type": "execute_result"
    }
   ],
   "source": [
    "ad_recs_annotated.query('region == \"US\" and is_success==\"yes\"').shape[0] # 2nd question"
   ]
  },
  {
   "cell_type": "markdown",
   "id": "2c639004-8e7b-4717-a78b-9914f4b4d2e0",
   "metadata": {},
   "source": [
    "#### Q3 - How many successful requests are there in US region, on week 52?"
   ]
  },
  {
   "cell_type": "code",
   "execution_count": 41,
   "id": "93034da9-a060-4900-a5af-c3d30591c4df",
   "metadata": {},
   "outputs": [
    {
     "data": {
      "text/plain": [
       "3342"
      ]
     },
     "execution_count": 41,
     "metadata": {},
     "output_type": "execute_result"
    }
   ],
   "source": [
    "ad_recs_annotated.query('region == \"US\" and is_success==\"yes\" and week_id.str.endswith(\"52\")', engine='python').shape[0] # 3rd question"
   ]
  },
  {
   "cell_type": "markdown",
   "id": "22c29c5b-cb48-4bc7-8e72-41ff0bcae022",
   "metadata": {},
   "source": [
    "#### Q4 - How many requests where delivered by DNNQ, RNNY and UserPopQ together?"
   ]
  },
  {
   "cell_type": "code",
   "execution_count": 42,
   "id": "664471f5-5ae8-4b0f-b071-e20322e7111f",
   "metadata": {},
   "outputs": [
    {
     "data": {
      "text/plain": [
       "200093"
      ]
     },
     "execution_count": 42,
     "metadata": {},
     "output_type": "execute_result"
    }
   ],
   "source": [
    "ad_recs_annotated.query('rec_provider == \"DNNQ\" or rec_provider == \"RNNY\" or rec_provider == \"UserPopQ\"').shape[0] # 4th question"
   ]
  },
  {
   "cell_type": "markdown",
   "id": "29a3306f-7ec3-45ad-a0ec-a7a1f816a8fe",
   "metadata": {},
   "source": [
    "#### Q5 - How many requests where delivered by rule based providers?"
   ]
  },
  {
   "cell_type": "code",
   "execution_count": 43,
   "id": "d8c4d186-bfa5-4338-8ba8-3ac3a4ac6fc3",
   "metadata": {
    "tags": []
   },
   "outputs": [
    {
     "data": {
      "text/plain": [
       "182"
      ]
     },
     "execution_count": 43,
     "metadata": {},
     "output_type": "execute_result"
    }
   ],
   "source": [
    "ad_recs_annotated.rec_provider.value_counts()['RuleBased'] # 5th question"
   ]
  },
  {
   "cell_type": "markdown",
   "id": "f9ce4505-cf7d-4c7f-8278-f77fac192b0c",
   "metadata": {},
   "source": [
    "#### Q6 - Select only the requests from 2021 - How many are there?"
   ]
  },
  {
   "cell_type": "code",
   "execution_count": 44,
   "id": "a9320de6-6c39-43a2-a81e-bb8b3ad24561",
   "metadata": {},
   "outputs": [
    {
     "data": {
      "text/plain": [
       "221145"
      ]
     },
     "execution_count": 44,
     "metadata": {},
     "output_type": "execute_result"
    }
   ],
   "source": [
    "ad_recs_annotated.query('sample_year == \"2021\" and is_success==\"yes\"').shape[0] # 6th question"
   ]
  },
  {
   "cell_type": "markdown",
   "id": "94f85112-8965-41fe-bc0c-4f6682d22cd7",
   "metadata": {},
   "source": [
    "#### Q7 - Select the reqeusts from week 30 to week 40 - How many are there?"
   ]
  },
  {
   "cell_type": "code",
   "execution_count": 45,
   "id": "859e363f-39b2-4ed4-b14d-a01a509332a1",
   "metadata": {},
   "outputs": [
    {
     "data": {
      "text/plain": [
       "115051"
      ]
     },
     "execution_count": 45,
     "metadata": {},
     "output_type": "execute_result"
    }
   ],
   "source": [
    "def is_between_week_30_t0_40(week_id):\n",
    "    week_num=[]\n",
    "    for i in range(30,41,1):\n",
    "        if week_id.endswith(str(i)):\n",
    "            return True\n",
    "    return False\n",
    "ad_recs_annotated[ad_recs_annotated.week_id.apply(is_between_week_30_t0_40)].shape[0] #7th question"
   ]
  },
  {
   "cell_type": "markdown",
   "id": "4050f657-cf9e-4a26-938c-4eee6825756b",
   "metadata": {},
   "source": [
    "#### Q8 - Select all the data that comes from the most popular Ad"
   ]
  },
  {
   "cell_type": "code",
   "execution_count": 46,
   "id": "498ba846-cd9d-4cfa-b9e7-30a9ee833dfa",
   "metadata": {},
   "outputs": [
    {
     "data": {
      "text/html": [
       "<div>\n",
       "<style scoped>\n",
       "    .dataframe tbody tr th:only-of-type {\n",
       "        vertical-align: middle;\n",
       "    }\n",
       "\n",
       "    .dataframe tbody tr th {\n",
       "        vertical-align: top;\n",
       "    }\n",
       "\n",
       "    .dataframe thead th {\n",
       "        text-align: right;\n",
       "    }\n",
       "</style>\n",
       "<table border=\"1\" class=\"dataframe\">\n",
       "  <thead>\n",
       "    <tr style=\"text-align: right;\">\n",
       "      <th></th>\n",
       "      <th>week_id</th>\n",
       "      <th>ad_id</th>\n",
       "      <th>requester</th>\n",
       "      <th>region</th>\n",
       "      <th>is_success</th>\n",
       "      <th>is_sever</th>\n",
       "      <th>recommendation_type</th>\n",
       "      <th>rec_provider</th>\n",
       "      <th>sample_year</th>\n",
       "      <th>quarter</th>\n",
       "      <th>new_success_col</th>\n",
       "      <th>is_severe_fixed</th>\n",
       "      <th>is_success_capital</th>\n",
       "    </tr>\n",
       "  </thead>\n",
       "  <tbody>\n",
       "    <tr>\n",
       "      <th>7031</th>\n",
       "      <td>2021-week_33</td>\n",
       "      <td>AD07PFFMP9</td>\n",
       "      <td>Puentes Company</td>\n",
       "      <td>IN</td>\n",
       "      <td>yes</td>\n",
       "      <td>NaN</td>\n",
       "      <td>Yield</td>\n",
       "      <td>ManualQ</td>\n",
       "      <td>2021</td>\n",
       "      <td>3</td>\n",
       "      <td>1</td>\n",
       "      <td>False</td>\n",
       "      <td>Yes</td>\n",
       "    </tr>\n",
       "    <tr>\n",
       "      <th>7032</th>\n",
       "      <td>2021-week_33</td>\n",
       "      <td>AD07PFFMP9</td>\n",
       "      <td>Puentes Company</td>\n",
       "      <td>IN</td>\n",
       "      <td>yes</td>\n",
       "      <td>NaN</td>\n",
       "      <td>Yield</td>\n",
       "      <td>ManualQ</td>\n",
       "      <td>2021</td>\n",
       "      <td>3</td>\n",
       "      <td>1</td>\n",
       "      <td>False</td>\n",
       "      <td>Yes</td>\n",
       "    </tr>\n",
       "    <tr>\n",
       "      <th>20010</th>\n",
       "      <td>2021-week_34</td>\n",
       "      <td>AD07PFFMP9</td>\n",
       "      <td>Bizanga</td>\n",
       "      <td>IN</td>\n",
       "      <td>yes</td>\n",
       "      <td>NaN</td>\n",
       "      <td>Yield</td>\n",
       "      <td>ManualQ</td>\n",
       "      <td>2021</td>\n",
       "      <td>3</td>\n",
       "      <td>1</td>\n",
       "      <td>False</td>\n",
       "      <td>Yes</td>\n",
       "    </tr>\n",
       "    <tr>\n",
       "      <th>20011</th>\n",
       "      <td>2021-week_34</td>\n",
       "      <td>AD07PFFMP9</td>\n",
       "      <td>Puentes Company</td>\n",
       "      <td>IN</td>\n",
       "      <td>yes</td>\n",
       "      <td>NaN</td>\n",
       "      <td>Yield</td>\n",
       "      <td>ManualQ</td>\n",
       "      <td>2021</td>\n",
       "      <td>3</td>\n",
       "      <td>1</td>\n",
       "      <td>False</td>\n",
       "      <td>Yes</td>\n",
       "    </tr>\n",
       "    <tr>\n",
       "      <th>35214</th>\n",
       "      <td>2021-week_35</td>\n",
       "      <td>AD07PFFMP9</td>\n",
       "      <td>Bizanga</td>\n",
       "      <td>IN</td>\n",
       "      <td>yes</td>\n",
       "      <td>NaN</td>\n",
       "      <td>Yield</td>\n",
       "      <td>ManualQ</td>\n",
       "      <td>2021</td>\n",
       "      <td>3</td>\n",
       "      <td>1</td>\n",
       "      <td>False</td>\n",
       "      <td>Yes</td>\n",
       "    </tr>\n",
       "    <tr>\n",
       "      <th>...</th>\n",
       "      <td>...</td>\n",
       "      <td>...</td>\n",
       "      <td>...</td>\n",
       "      <td>...</td>\n",
       "      <td>...</td>\n",
       "      <td>...</td>\n",
       "      <td>...</td>\n",
       "      <td>...</td>\n",
       "      <td>...</td>\n",
       "      <td>...</td>\n",
       "      <td>...</td>\n",
       "      <td>...</td>\n",
       "      <td>...</td>\n",
       "    </tr>\n",
       "    <tr>\n",
       "      <th>363533</th>\n",
       "      <td>2022-week_52</td>\n",
       "      <td>AD07PFFMP9</td>\n",
       "      <td>MoJoe Brewing Company</td>\n",
       "      <td>IN</td>\n",
       "      <td>yes</td>\n",
       "      <td>NaN</td>\n",
       "      <td>Yield</td>\n",
       "      <td>ManualQ</td>\n",
       "      <td>2022</td>\n",
       "      <td>5</td>\n",
       "      <td>1</td>\n",
       "      <td>False</td>\n",
       "      <td>Yes</td>\n",
       "    </tr>\n",
       "    <tr>\n",
       "      <th>363534</th>\n",
       "      <td>2022-week_52</td>\n",
       "      <td>AD07PFFMP9</td>\n",
       "      <td>MoJoe Brewing Company</td>\n",
       "      <td>IN</td>\n",
       "      <td>yes</td>\n",
       "      <td>NaN</td>\n",
       "      <td>Yield</td>\n",
       "      <td>ManualQ</td>\n",
       "      <td>2022</td>\n",
       "      <td>5</td>\n",
       "      <td>1</td>\n",
       "      <td>False</td>\n",
       "      <td>Yes</td>\n",
       "    </tr>\n",
       "    <tr>\n",
       "      <th>363535</th>\n",
       "      <td>2022-week_52</td>\n",
       "      <td>AD07PFFMP9</td>\n",
       "      <td>Bizanga</td>\n",
       "      <td>IN</td>\n",
       "      <td>yes</td>\n",
       "      <td>NaN</td>\n",
       "      <td>Yield</td>\n",
       "      <td>ManualQ</td>\n",
       "      <td>2022</td>\n",
       "      <td>5</td>\n",
       "      <td>1</td>\n",
       "      <td>False</td>\n",
       "      <td>Yes</td>\n",
       "    </tr>\n",
       "    <tr>\n",
       "      <th>363536</th>\n",
       "      <td>2022-week_52</td>\n",
       "      <td>AD07PFFMP9</td>\n",
       "      <td>MoJoe Brewing Company</td>\n",
       "      <td>IN</td>\n",
       "      <td>yes</td>\n",
       "      <td>NaN</td>\n",
       "      <td>Yield</td>\n",
       "      <td>ManualQ</td>\n",
       "      <td>2022</td>\n",
       "      <td>5</td>\n",
       "      <td>1</td>\n",
       "      <td>False</td>\n",
       "      <td>Yes</td>\n",
       "    </tr>\n",
       "    <tr>\n",
       "      <th>365817</th>\n",
       "      <td>2022-week_52</td>\n",
       "      <td>AD07PFFMP9</td>\n",
       "      <td>Allthetopbananas.com</td>\n",
       "      <td>IN</td>\n",
       "      <td>yes</td>\n",
       "      <td>NaN</td>\n",
       "      <td>Qality</td>\n",
       "      <td>ManualQ</td>\n",
       "      <td>2022</td>\n",
       "      <td>5</td>\n",
       "      <td>1</td>\n",
       "      <td>False</td>\n",
       "      <td>Yes</td>\n",
       "    </tr>\n",
       "  </tbody>\n",
       "</table>\n",
       "<p>247 rows × 13 columns</p>\n",
       "</div>"
      ],
      "text/plain": [
       "             week_id       ad_id              requester region is_success  \\\n",
       "7031    2021-week_33  AD07PFFMP9        Puentes Company     IN        yes   \n",
       "7032    2021-week_33  AD07PFFMP9        Puentes Company     IN        yes   \n",
       "20010   2021-week_34  AD07PFFMP9                Bizanga     IN        yes   \n",
       "20011   2021-week_34  AD07PFFMP9        Puentes Company     IN        yes   \n",
       "35214   2021-week_35  AD07PFFMP9                Bizanga     IN        yes   \n",
       "...              ...         ...                    ...    ...        ...   \n",
       "363533  2022-week_52  AD07PFFMP9  MoJoe Brewing Company     IN        yes   \n",
       "363534  2022-week_52  AD07PFFMP9  MoJoe Brewing Company     IN        yes   \n",
       "363535  2022-week_52  AD07PFFMP9                Bizanga     IN        yes   \n",
       "363536  2022-week_52  AD07PFFMP9  MoJoe Brewing Company     IN        yes   \n",
       "365817  2022-week_52  AD07PFFMP9   Allthetopbananas.com     IN        yes   \n",
       "\n",
       "       is_sever recommendation_type rec_provider sample_year  quarter  \\\n",
       "7031        NaN               Yield      ManualQ        2021        3   \n",
       "7032        NaN               Yield      ManualQ        2021        3   \n",
       "20010       NaN               Yield      ManualQ        2021        3   \n",
       "20011       NaN               Yield      ManualQ        2021        3   \n",
       "35214       NaN               Yield      ManualQ        2021        3   \n",
       "...         ...                 ...          ...         ...      ...   \n",
       "363533      NaN               Yield      ManualQ        2022        5   \n",
       "363534      NaN               Yield      ManualQ        2022        5   \n",
       "363535      NaN               Yield      ManualQ        2022        5   \n",
       "363536      NaN               Yield      ManualQ        2022        5   \n",
       "365817      NaN              Qality      ManualQ        2022        5   \n",
       "\n",
       "        new_success_col  is_severe_fixed is_success_capital  \n",
       "7031                  1            False                Yes  \n",
       "7032                  1            False                Yes  \n",
       "20010                 1            False                Yes  \n",
       "20011                 1            False                Yes  \n",
       "35214                 1            False                Yes  \n",
       "...                 ...              ...                ...  \n",
       "363533                1            False                Yes  \n",
       "363534                1            False                Yes  \n",
       "363535                1            False                Yes  \n",
       "363536                1            False                Yes  \n",
       "365817                1            False                Yes  \n",
       "\n",
       "[247 rows x 13 columns]"
      ]
     },
     "execution_count": 46,
     "metadata": {},
     "output_type": "execute_result"
    }
   ],
   "source": [
    "most_popular_ad = ad_recs_annotated.groupby(['ad_id']).size().idxmax() #8th question A\n",
    "ad_recs_annotated[ad_recs_annotated.ad_id==most_popular_ad] #8th question B"
   ]
  },
  {
   "cell_type": "markdown",
   "id": "e3c3ee90-824e-45a6-8a01-712f3b6b1cf9",
   "metadata": {},
   "source": [
    "#### Q9 - Select all the data that comes from the least popular provider"
   ]
  },
  {
   "cell_type": "code",
   "execution_count": 47,
   "id": "7309028d-ef91-4d71-ae50-2a9fbd707649",
   "metadata": {},
   "outputs": [
    {
     "data": {
      "text/html": [
       "<div>\n",
       "<style scoped>\n",
       "    .dataframe tbody tr th:only-of-type {\n",
       "        vertical-align: middle;\n",
       "    }\n",
       "\n",
       "    .dataframe tbody tr th {\n",
       "        vertical-align: top;\n",
       "    }\n",
       "\n",
       "    .dataframe thead th {\n",
       "        text-align: right;\n",
       "    }\n",
       "</style>\n",
       "<table border=\"1\" class=\"dataframe\">\n",
       "  <thead>\n",
       "    <tr style=\"text-align: right;\">\n",
       "      <th></th>\n",
       "      <th>week_id</th>\n",
       "      <th>ad_id</th>\n",
       "      <th>requester</th>\n",
       "      <th>region</th>\n",
       "      <th>is_success</th>\n",
       "      <th>is_sever</th>\n",
       "      <th>recommendation_type</th>\n",
       "      <th>rec_provider</th>\n",
       "      <th>sample_year</th>\n",
       "      <th>quarter</th>\n",
       "      <th>new_success_col</th>\n",
       "      <th>is_severe_fixed</th>\n",
       "      <th>is_success_capital</th>\n",
       "    </tr>\n",
       "  </thead>\n",
       "  <tbody>\n",
       "    <tr>\n",
       "      <th>70085</th>\n",
       "      <td>2021-week_37</td>\n",
       "      <td>AD00000088</td>\n",
       "      <td>Extreme DA</td>\n",
       "      <td>US</td>\n",
       "      <td>yes</td>\n",
       "      <td>NaN</td>\n",
       "      <td>Yield</td>\n",
       "      <td>BooksY</td>\n",
       "      <td>2021</td>\n",
       "      <td>3</td>\n",
       "      <td>1</td>\n",
       "      <td>False</td>\n",
       "      <td>Yes</td>\n",
       "    </tr>\n",
       "  </tbody>\n",
       "</table>\n",
       "</div>"
      ],
      "text/plain": [
       "            week_id       ad_id   requester region is_success is_sever  \\\n",
       "70085  2021-week_37  AD00000088  Extreme DA     US        yes      NaN   \n",
       "\n",
       "      recommendation_type rec_provider sample_year  quarter  new_success_col  \\\n",
       "70085               Yield       BooksY        2021        3                1   \n",
       "\n",
       "       is_severe_fixed is_success_capital  \n",
       "70085            False                Yes  "
      ]
     },
     "execution_count": 47,
     "metadata": {},
     "output_type": "execute_result"
    }
   ],
   "source": [
    "least_popular_ad = ad_recs_annotated.groupby(['ad_id']).size().idxmin() #9th question A\n",
    "ad_recs_annotated[ad_recs_annotated.ad_id==least_popular_ad] #9th question B"
   ]
  },
  {
   "cell_type": "markdown",
   "id": "485356b3-eaac-4de4-b250-0234cb719cd3",
   "metadata": {},
   "source": [
    "#### Q10 - Select the data in which is_sever is None. How big is it?"
   ]
  },
  {
   "cell_type": "code",
   "execution_count": 48,
   "id": "d94258c7-1ba4-4be9-aab0-e909459ac2f1",
   "metadata": {},
   "outputs": [
    {
     "data": {
      "text/plain": [
       "304195"
      ]
     },
     "execution_count": 48,
     "metadata": {},
     "output_type": "execute_result"
    }
   ],
   "source": [
    "ad_recs_annotated.is_sever.value_counts(dropna=False)[0] #10th question"
   ]
  },
  {
   "cell_type": "markdown",
   "id": "5d8d3116-840f-47d4-935e-dfbeeff96891",
   "metadata": {},
   "source": [
    "#### Q11 - Select the data in which is_sever is None. How big is it?"
   ]
  },
  {
   "cell_type": "code",
   "execution_count": 49,
   "id": "9ccff9b8-5fa3-433a-9a4f-32d8e261790d",
   "metadata": {},
   "outputs": [
    {
     "data": {
      "text/html": [
       "<div>\n",
       "<style scoped>\n",
       "    .dataframe tbody tr th:only-of-type {\n",
       "        vertical-align: middle;\n",
       "    }\n",
       "\n",
       "    .dataframe tbody tr th {\n",
       "        vertical-align: top;\n",
       "    }\n",
       "\n",
       "    .dataframe thead th {\n",
       "        text-align: right;\n",
       "    }\n",
       "</style>\n",
       "<table border=\"1\" class=\"dataframe\">\n",
       "  <thead>\n",
       "    <tr style=\"text-align: right;\">\n",
       "      <th></th>\n",
       "      <th>week_id</th>\n",
       "      <th>ad_id</th>\n",
       "      <th>requester</th>\n",
       "      <th>region</th>\n",
       "      <th>is_success</th>\n",
       "      <th>is_sever</th>\n",
       "      <th>recommendation_type</th>\n",
       "      <th>rec_provider</th>\n",
       "      <th>sample_year</th>\n",
       "      <th>quarter</th>\n",
       "      <th>new_success_col</th>\n",
       "      <th>is_severe_fixed</th>\n",
       "      <th>is_success_capital</th>\n",
       "    </tr>\n",
       "  </thead>\n",
       "  <tbody>\n",
       "    <tr>\n",
       "      <th>0</th>\n",
       "      <td>2021-week_33</td>\n",
       "      <td>AD0088VOS</td>\n",
       "      <td>Search Million Culture</td>\n",
       "      <td>DE</td>\n",
       "      <td>yes</td>\n",
       "      <td>NaN</td>\n",
       "      <td>Qality</td>\n",
       "      <td>DNNQ</td>\n",
       "      <td>2021</td>\n",
       "      <td>3</td>\n",
       "      <td>1</td>\n",
       "      <td>False</td>\n",
       "      <td>Yes</td>\n",
       "    </tr>\n",
       "    <tr>\n",
       "      <th>1</th>\n",
       "      <td>2021-week_33</td>\n",
       "      <td>AD07KYS8JM</td>\n",
       "      <td>MoJoe Brewing Company</td>\n",
       "      <td>DE</td>\n",
       "      <td>yes</td>\n",
       "      <td>NaN</td>\n",
       "      <td>Yield</td>\n",
       "      <td>DNNY</td>\n",
       "      <td>2021</td>\n",
       "      <td>3</td>\n",
       "      <td>1</td>\n",
       "      <td>False</td>\n",
       "      <td>Yes</td>\n",
       "    </tr>\n",
       "    <tr>\n",
       "      <th>2</th>\n",
       "      <td>2021-week_33</td>\n",
       "      <td>AD08PDP6Y9</td>\n",
       "      <td>Search Million Culture</td>\n",
       "      <td>DE</td>\n",
       "      <td>yes</td>\n",
       "      <td>NaN</td>\n",
       "      <td>Qality</td>\n",
       "      <td>DNNQ</td>\n",
       "      <td>2021</td>\n",
       "      <td>3</td>\n",
       "      <td>1</td>\n",
       "      <td>False</td>\n",
       "      <td>Yes</td>\n",
       "    </tr>\n",
       "    <tr>\n",
       "      <th>3</th>\n",
       "      <td>2021-week_33</td>\n",
       "      <td>AD89608808</td>\n",
       "      <td>Search Million Culture</td>\n",
       "      <td>DE</td>\n",
       "      <td>yes</td>\n",
       "      <td>NaN</td>\n",
       "      <td>Qality</td>\n",
       "      <td>BooksQ</td>\n",
       "      <td>2021</td>\n",
       "      <td>3</td>\n",
       "      <td>1</td>\n",
       "      <td>False</td>\n",
       "      <td>Yes</td>\n",
       "    </tr>\n",
       "    <tr>\n",
       "      <th>4</th>\n",
       "      <td>2021-week_33</td>\n",
       "      <td>AD07CMVHP6</td>\n",
       "      <td>Search Million Culture</td>\n",
       "      <td>DE</td>\n",
       "      <td>yes</td>\n",
       "      <td>NaN</td>\n",
       "      <td>Qality</td>\n",
       "      <td>DNNQ</td>\n",
       "      <td>2021</td>\n",
       "      <td>3</td>\n",
       "      <td>1</td>\n",
       "      <td>False</td>\n",
       "      <td>Yes</td>\n",
       "    </tr>\n",
       "    <tr>\n",
       "      <th>...</th>\n",
       "      <td>...</td>\n",
       "      <td>...</td>\n",
       "      <td>...</td>\n",
       "      <td>...</td>\n",
       "      <td>...</td>\n",
       "      <td>...</td>\n",
       "      <td>...</td>\n",
       "      <td>...</td>\n",
       "      <td>...</td>\n",
       "      <td>...</td>\n",
       "      <td>...</td>\n",
       "      <td>...</td>\n",
       "      <td>...</td>\n",
       "    </tr>\n",
       "    <tr>\n",
       "      <th>373663</th>\n",
       "      <td>2022-week_52</td>\n",
       "      <td>AD09G98VJZ</td>\n",
       "      <td>MoJoe Brewing Company</td>\n",
       "      <td>US</td>\n",
       "      <td>yes</td>\n",
       "      <td>NaN</td>\n",
       "      <td>Yield</td>\n",
       "      <td>RNNY</td>\n",
       "      <td>2022</td>\n",
       "      <td>5</td>\n",
       "      <td>1</td>\n",
       "      <td>False</td>\n",
       "      <td>Yes</td>\n",
       "    </tr>\n",
       "    <tr>\n",
       "      <th>373689</th>\n",
       "      <td>2022-week_52</td>\n",
       "      <td>AD078WDG8W</td>\n",
       "      <td>MoJoe Brewing Company</td>\n",
       "      <td>US</td>\n",
       "      <td>yes</td>\n",
       "      <td>NaN</td>\n",
       "      <td>Yield</td>\n",
       "      <td>RNNY</td>\n",
       "      <td>2022</td>\n",
       "      <td>5</td>\n",
       "      <td>1</td>\n",
       "      <td>False</td>\n",
       "      <td>Yes</td>\n",
       "    </tr>\n",
       "    <tr>\n",
       "      <th>373691</th>\n",
       "      <td>2022-week_52</td>\n",
       "      <td>AD08M86WW8</td>\n",
       "      <td>MoJoe Brewing Company</td>\n",
       "      <td>US</td>\n",
       "      <td>yes</td>\n",
       "      <td>NaN</td>\n",
       "      <td>Yield</td>\n",
       "      <td>DNNY</td>\n",
       "      <td>2022</td>\n",
       "      <td>5</td>\n",
       "      <td>1</td>\n",
       "      <td>False</td>\n",
       "      <td>Yes</td>\n",
       "    </tr>\n",
       "    <tr>\n",
       "      <th>373722</th>\n",
       "      <td>2022-week_52</td>\n",
       "      <td>AD09C8X6VY</td>\n",
       "      <td>Search Million Culture</td>\n",
       "      <td>US</td>\n",
       "      <td>yes</td>\n",
       "      <td>NaN</td>\n",
       "      <td>Qality</td>\n",
       "      <td>DNNQ</td>\n",
       "      <td>2022</td>\n",
       "      <td>5</td>\n",
       "      <td>1</td>\n",
       "      <td>False</td>\n",
       "      <td>Yes</td>\n",
       "    </tr>\n",
       "    <tr>\n",
       "      <th>373728</th>\n",
       "      <td>2022-week_52</td>\n",
       "      <td>AD08P8L8YQ</td>\n",
       "      <td>MoJoe Brewing Company</td>\n",
       "      <td>US</td>\n",
       "      <td>no</td>\n",
       "      <td>True</td>\n",
       "      <td>Yield</td>\n",
       "      <td>DNNY</td>\n",
       "      <td>2022</td>\n",
       "      <td>5</td>\n",
       "      <td>0</td>\n",
       "      <td>True</td>\n",
       "      <td>No</td>\n",
       "    </tr>\n",
       "  </tbody>\n",
       "</table>\n",
       "<p>118141 rows × 13 columns</p>\n",
       "</div>"
      ],
      "text/plain": [
       "             week_id       ad_id               requester region is_success  \\\n",
       "0       2021-week_33   AD0088VOS  Search Million Culture     DE        yes   \n",
       "1       2021-week_33  AD07KYS8JM   MoJoe Brewing Company     DE        yes   \n",
       "2       2021-week_33  AD08PDP6Y9  Search Million Culture     DE        yes   \n",
       "3       2021-week_33  AD89608808  Search Million Culture     DE        yes   \n",
       "4       2021-week_33  AD07CMVHP6  Search Million Culture     DE        yes   \n",
       "...              ...         ...                     ...    ...        ...   \n",
       "373663  2022-week_52  AD09G98VJZ   MoJoe Brewing Company     US        yes   \n",
       "373689  2022-week_52  AD078WDG8W   MoJoe Brewing Company     US        yes   \n",
       "373691  2022-week_52  AD08M86WW8   MoJoe Brewing Company     US        yes   \n",
       "373722  2022-week_52  AD09C8X6VY  Search Million Culture     US        yes   \n",
       "373728  2022-week_52  AD08P8L8YQ   MoJoe Brewing Company     US         no   \n",
       "\n",
       "       is_sever recommendation_type rec_provider sample_year  quarter  \\\n",
       "0           NaN              Qality         DNNQ        2021        3   \n",
       "1           NaN               Yield         DNNY        2021        3   \n",
       "2           NaN              Qality         DNNQ        2021        3   \n",
       "3           NaN              Qality       BooksQ        2021        3   \n",
       "4           NaN              Qality         DNNQ        2021        3   \n",
       "...         ...                 ...          ...         ...      ...   \n",
       "373663      NaN               Yield         RNNY        2022        5   \n",
       "373689      NaN               Yield         RNNY        2022        5   \n",
       "373691      NaN               Yield         DNNY        2022        5   \n",
       "373722      NaN              Qality         DNNQ        2022        5   \n",
       "373728     True               Yield         DNNY        2022        5   \n",
       "\n",
       "        new_success_col  is_severe_fixed is_success_capital  \n",
       "0                     1            False                Yes  \n",
       "1                     1            False                Yes  \n",
       "2                     1            False                Yes  \n",
       "3                     1            False                Yes  \n",
       "4                     1            False                Yes  \n",
       "...                 ...              ...                ...  \n",
       "373663                1            False                Yes  \n",
       "373689                1            False                Yes  \n",
       "373691                1            False                Yes  \n",
       "373722                1            False                Yes  \n",
       "373728                0             True                 No  \n",
       "\n",
       "[118141 rows x 13 columns]"
      ]
     },
     "execution_count": 49,
     "metadata": {},
     "output_type": "execute_result"
    }
   ],
   "source": [
    "def is_req_3_words(requester): #11th question A\n",
    "    return len(str(requester).split(' ')) == 3 #11th question B\n",
    "ad_recs_annotated[ad_recs_annotated.requester.apply(is_req_3_words)] #11th question C"
   ]
  },
  {
   "cell_type": "markdown",
   "id": "e0ed4dae-94cf-49ec-b40e-89be5f204c18",
   "metadata": {},
   "source": [
    "#### Q12 - Select the data in which the requester is a 3 word company, and the ad_id has the letter 6 in it"
   ]
  },
  {
   "cell_type": "code",
   "execution_count": 50,
   "id": "829e26f2-98a4-4490-b697-a96d211d6d68",
   "metadata": {},
   "outputs": [
    {
     "data": {
      "text/html": [
       "<div>\n",
       "<style scoped>\n",
       "    .dataframe tbody tr th:only-of-type {\n",
       "        vertical-align: middle;\n",
       "    }\n",
       "\n",
       "    .dataframe tbody tr th {\n",
       "        vertical-align: top;\n",
       "    }\n",
       "\n",
       "    .dataframe thead th {\n",
       "        text-align: right;\n",
       "    }\n",
       "</style>\n",
       "<table border=\"1\" class=\"dataframe\">\n",
       "  <thead>\n",
       "    <tr style=\"text-align: right;\">\n",
       "      <th></th>\n",
       "      <th>week_id</th>\n",
       "      <th>ad_id</th>\n",
       "      <th>requester</th>\n",
       "      <th>region</th>\n",
       "      <th>is_success</th>\n",
       "      <th>is_sever</th>\n",
       "      <th>recommendation_type</th>\n",
       "      <th>rec_provider</th>\n",
       "      <th>sample_year</th>\n",
       "      <th>quarter</th>\n",
       "      <th>new_success_col</th>\n",
       "      <th>is_severe_fixed</th>\n",
       "      <th>is_success_capital</th>\n",
       "    </tr>\n",
       "  </thead>\n",
       "  <tbody>\n",
       "    <tr>\n",
       "      <th>2</th>\n",
       "      <td>2021-week_33</td>\n",
       "      <td>AD08PDP6Y9</td>\n",
       "      <td>Search Million Culture</td>\n",
       "      <td>DE</td>\n",
       "      <td>yes</td>\n",
       "      <td>NaN</td>\n",
       "      <td>Qality</td>\n",
       "      <td>DNNQ</td>\n",
       "      <td>2021</td>\n",
       "      <td>3</td>\n",
       "      <td>1</td>\n",
       "      <td>False</td>\n",
       "      <td>Yes</td>\n",
       "    </tr>\n",
       "    <tr>\n",
       "      <th>3</th>\n",
       "      <td>2021-week_33</td>\n",
       "      <td>AD89608808</td>\n",
       "      <td>Search Million Culture</td>\n",
       "      <td>DE</td>\n",
       "      <td>yes</td>\n",
       "      <td>NaN</td>\n",
       "      <td>Qality</td>\n",
       "      <td>BooksQ</td>\n",
       "      <td>2021</td>\n",
       "      <td>3</td>\n",
       "      <td>1</td>\n",
       "      <td>False</td>\n",
       "      <td>Yes</td>\n",
       "    </tr>\n",
       "    <tr>\n",
       "      <th>4</th>\n",
       "      <td>2021-week_33</td>\n",
       "      <td>AD07CMVHP6</td>\n",
       "      <td>Search Million Culture</td>\n",
       "      <td>DE</td>\n",
       "      <td>yes</td>\n",
       "      <td>NaN</td>\n",
       "      <td>Qality</td>\n",
       "      <td>DNNQ</td>\n",
       "      <td>2021</td>\n",
       "      <td>3</td>\n",
       "      <td>1</td>\n",
       "      <td>False</td>\n",
       "      <td>Yes</td>\n",
       "    </tr>\n",
       "    <tr>\n",
       "      <th>11</th>\n",
       "      <td>2021-week_33</td>\n",
       "      <td>AD88967068</td>\n",
       "      <td>Search Million Culture</td>\n",
       "      <td>DE</td>\n",
       "      <td>yes</td>\n",
       "      <td>NaN</td>\n",
       "      <td>Qality</td>\n",
       "      <td>BooksQ</td>\n",
       "      <td>2021</td>\n",
       "      <td>3</td>\n",
       "      <td>1</td>\n",
       "      <td>False</td>\n",
       "      <td>Yes</td>\n",
       "    </tr>\n",
       "    <tr>\n",
       "      <th>41</th>\n",
       "      <td>2021-week_33</td>\n",
       "      <td>AD07L6JC8W</td>\n",
       "      <td>MoJoe Brewing Company</td>\n",
       "      <td>DE</td>\n",
       "      <td>yes</td>\n",
       "      <td>NaN</td>\n",
       "      <td>Yield</td>\n",
       "      <td>DNNY</td>\n",
       "      <td>2021</td>\n",
       "      <td>3</td>\n",
       "      <td>1</td>\n",
       "      <td>False</td>\n",
       "      <td>Yes</td>\n",
       "    </tr>\n",
       "    <tr>\n",
       "      <th>...</th>\n",
       "      <td>...</td>\n",
       "      <td>...</td>\n",
       "      <td>...</td>\n",
       "      <td>...</td>\n",
       "      <td>...</td>\n",
       "      <td>...</td>\n",
       "      <td>...</td>\n",
       "      <td>...</td>\n",
       "      <td>...</td>\n",
       "      <td>...</td>\n",
       "      <td>...</td>\n",
       "      <td>...</td>\n",
       "      <td>...</td>\n",
       "    </tr>\n",
       "    <tr>\n",
       "      <th>373364</th>\n",
       "      <td>2022-week_52</td>\n",
       "      <td>AD06XJR86M</td>\n",
       "      <td>MoJoe Brewing Company</td>\n",
       "      <td>US</td>\n",
       "      <td>yes</td>\n",
       "      <td>NaN</td>\n",
       "      <td>Yield</td>\n",
       "      <td>RuleBasedY</td>\n",
       "      <td>2022</td>\n",
       "      <td>5</td>\n",
       "      <td>1</td>\n",
       "      <td>False</td>\n",
       "      <td>Yes</td>\n",
       "    </tr>\n",
       "    <tr>\n",
       "      <th>373394</th>\n",
       "      <td>2022-week_52</td>\n",
       "      <td>AD08Y6R9WV</td>\n",
       "      <td>MoJoe Brewing Company</td>\n",
       "      <td>US</td>\n",
       "      <td>yes</td>\n",
       "      <td>NaN</td>\n",
       "      <td>Yield</td>\n",
       "      <td>DNNY</td>\n",
       "      <td>2022</td>\n",
       "      <td>5</td>\n",
       "      <td>1</td>\n",
       "      <td>False</td>\n",
       "      <td>Yes</td>\n",
       "    </tr>\n",
       "    <tr>\n",
       "      <th>373511</th>\n",
       "      <td>2022-week_52</td>\n",
       "      <td>AD09C68T8Y</td>\n",
       "      <td>MoJoe Brewing Company</td>\n",
       "      <td>US</td>\n",
       "      <td>yes</td>\n",
       "      <td>NaN</td>\n",
       "      <td>Yield</td>\n",
       "      <td>DNNY</td>\n",
       "      <td>2022</td>\n",
       "      <td>5</td>\n",
       "      <td>1</td>\n",
       "      <td>False</td>\n",
       "      <td>Yes</td>\n",
       "    </tr>\n",
       "    <tr>\n",
       "      <th>373691</th>\n",
       "      <td>2022-week_52</td>\n",
       "      <td>AD08M86WW8</td>\n",
       "      <td>MoJoe Brewing Company</td>\n",
       "      <td>US</td>\n",
       "      <td>yes</td>\n",
       "      <td>NaN</td>\n",
       "      <td>Yield</td>\n",
       "      <td>DNNY</td>\n",
       "      <td>2022</td>\n",
       "      <td>5</td>\n",
       "      <td>1</td>\n",
       "      <td>False</td>\n",
       "      <td>Yes</td>\n",
       "    </tr>\n",
       "    <tr>\n",
       "      <th>373722</th>\n",
       "      <td>2022-week_52</td>\n",
       "      <td>AD09C8X6VY</td>\n",
       "      <td>Search Million Culture</td>\n",
       "      <td>US</td>\n",
       "      <td>yes</td>\n",
       "      <td>NaN</td>\n",
       "      <td>Qality</td>\n",
       "      <td>DNNQ</td>\n",
       "      <td>2022</td>\n",
       "      <td>5</td>\n",
       "      <td>1</td>\n",
       "      <td>False</td>\n",
       "      <td>Yes</td>\n",
       "    </tr>\n",
       "  </tbody>\n",
       "</table>\n",
       "<p>24197 rows × 13 columns</p>\n",
       "</div>"
      ],
      "text/plain": [
       "             week_id       ad_id               requester region is_success  \\\n",
       "2       2021-week_33  AD08PDP6Y9  Search Million Culture     DE        yes   \n",
       "3       2021-week_33  AD89608808  Search Million Culture     DE        yes   \n",
       "4       2021-week_33  AD07CMVHP6  Search Million Culture     DE        yes   \n",
       "11      2021-week_33  AD88967068  Search Million Culture     DE        yes   \n",
       "41      2021-week_33  AD07L6JC8W   MoJoe Brewing Company     DE        yes   \n",
       "...              ...         ...                     ...    ...        ...   \n",
       "373364  2022-week_52  AD06XJR86M   MoJoe Brewing Company     US        yes   \n",
       "373394  2022-week_52  AD08Y6R9WV   MoJoe Brewing Company     US        yes   \n",
       "373511  2022-week_52  AD09C68T8Y   MoJoe Brewing Company     US        yes   \n",
       "373691  2022-week_52  AD08M86WW8   MoJoe Brewing Company     US        yes   \n",
       "373722  2022-week_52  AD09C8X6VY  Search Million Culture     US        yes   \n",
       "\n",
       "       is_sever recommendation_type rec_provider sample_year  quarter  \\\n",
       "2           NaN              Qality         DNNQ        2021        3   \n",
       "3           NaN              Qality       BooksQ        2021        3   \n",
       "4           NaN              Qality         DNNQ        2021        3   \n",
       "11          NaN              Qality       BooksQ        2021        3   \n",
       "41          NaN               Yield         DNNY        2021        3   \n",
       "...         ...                 ...          ...         ...      ...   \n",
       "373364      NaN               Yield   RuleBasedY        2022        5   \n",
       "373394      NaN               Yield         DNNY        2022        5   \n",
       "373511      NaN               Yield         DNNY        2022        5   \n",
       "373691      NaN               Yield         DNNY        2022        5   \n",
       "373722      NaN              Qality         DNNQ        2022        5   \n",
       "\n",
       "        new_success_col  is_severe_fixed is_success_capital  \n",
       "2                     1            False                Yes  \n",
       "3                     1            False                Yes  \n",
       "4                     1            False                Yes  \n",
       "11                    1            False                Yes  \n",
       "41                    1            False                Yes  \n",
       "...                 ...              ...                ...  \n",
       "373364                1            False                Yes  \n",
       "373394                1            False                Yes  \n",
       "373511                1            False                Yes  \n",
       "373691                1            False                Yes  \n",
       "373722                1            False                Yes  \n",
       "\n",
       "[24197 rows x 13 columns]"
      ]
     },
     "execution_count": 50,
     "metadata": {},
     "output_type": "execute_result"
    }
   ],
   "source": [
    "three_word_reqs = ad_recs_annotated[ad_recs_annotated.requester.apply(is_req_3_words)] #12th question A\n",
    "three_word_reqs[three_word_reqs.ad_id.str.contains('6')] #12th question B"
   ]
  },
  {
   "cell_type": "markdown",
   "id": "b815beda-cb8e-42c3-b509-a49d958267f5",
   "metadata": {},
   "source": [
    "#### Q13 - Select the data in which the requester is a 3 word company, and the multiplication of all the numbers in the ad_id is bigger than 30"
   ]
  },
  {
   "cell_type": "code",
   "execution_count": 51,
   "id": "6b445d58-32e2-4419-9fc7-b74dec0f3c47",
   "metadata": {},
   "outputs": [
    {
     "data": {
      "text/html": [
       "<div>\n",
       "<style scoped>\n",
       "    .dataframe tbody tr th:only-of-type {\n",
       "        vertical-align: middle;\n",
       "    }\n",
       "\n",
       "    .dataframe tbody tr th {\n",
       "        vertical-align: top;\n",
       "    }\n",
       "\n",
       "    .dataframe thead th {\n",
       "        text-align: right;\n",
       "    }\n",
       "</style>\n",
       "<table border=\"1\" class=\"dataframe\">\n",
       "  <thead>\n",
       "    <tr style=\"text-align: right;\">\n",
       "      <th></th>\n",
       "      <th>week_id</th>\n",
       "      <th>ad_id</th>\n",
       "      <th>requester</th>\n",
       "      <th>region</th>\n",
       "      <th>is_success</th>\n",
       "      <th>is_sever</th>\n",
       "      <th>recommendation_type</th>\n",
       "      <th>rec_provider</th>\n",
       "      <th>sample_year</th>\n",
       "      <th>quarter</th>\n",
       "      <th>new_success_col</th>\n",
       "      <th>is_severe_fixed</th>\n",
       "      <th>is_success_capital</th>\n",
       "    </tr>\n",
       "  </thead>\n",
       "  <tbody>\n",
       "    <tr>\n",
       "      <th>37</th>\n",
       "      <td>2021-week_33</td>\n",
       "      <td>AD88898888</td>\n",
       "      <td>Search Million Culture</td>\n",
       "      <td>DE</td>\n",
       "      <td>yes</td>\n",
       "      <td>NaN</td>\n",
       "      <td>Qality</td>\n",
       "      <td>BooksQ</td>\n",
       "      <td>2021</td>\n",
       "      <td>3</td>\n",
       "      <td>1</td>\n",
       "      <td>False</td>\n",
       "      <td>Yes</td>\n",
       "    </tr>\n",
       "    <tr>\n",
       "      <th>76</th>\n",
       "      <td>2021-week_33</td>\n",
       "      <td>AD88898786</td>\n",
       "      <td>MoJoe Brewing Company</td>\n",
       "      <td>DE</td>\n",
       "      <td>yes</td>\n",
       "      <td>NaN</td>\n",
       "      <td>Yield</td>\n",
       "      <td>BooksY</td>\n",
       "      <td>2021</td>\n",
       "      <td>3</td>\n",
       "      <td>1</td>\n",
       "      <td>False</td>\n",
       "      <td>Yes</td>\n",
       "    </tr>\n",
       "    <tr>\n",
       "      <th>112</th>\n",
       "      <td>2021-week_33</td>\n",
       "      <td>AD88788887</td>\n",
       "      <td>Search Million Culture</td>\n",
       "      <td>DE</td>\n",
       "      <td>yes</td>\n",
       "      <td>NaN</td>\n",
       "      <td>Qality</td>\n",
       "      <td>BooksQ</td>\n",
       "      <td>2021</td>\n",
       "      <td>3</td>\n",
       "      <td>1</td>\n",
       "      <td>False</td>\n",
       "      <td>Yes</td>\n",
       "    </tr>\n",
       "    <tr>\n",
       "      <th>162</th>\n",
       "      <td>2021-week_33</td>\n",
       "      <td>AD88887688</td>\n",
       "      <td>Search Million Culture</td>\n",
       "      <td>DE</td>\n",
       "      <td>yes</td>\n",
       "      <td>NaN</td>\n",
       "      <td>Qality</td>\n",
       "      <td>BooksQ</td>\n",
       "      <td>2021</td>\n",
       "      <td>3</td>\n",
       "      <td>1</td>\n",
       "      <td>False</td>\n",
       "      <td>Yes</td>\n",
       "    </tr>\n",
       "    <tr>\n",
       "      <th>174</th>\n",
       "      <td>2021-week_33</td>\n",
       "      <td>AD88888876</td>\n",
       "      <td>Search Million Culture</td>\n",
       "      <td>DE</td>\n",
       "      <td>yes</td>\n",
       "      <td>NaN</td>\n",
       "      <td>Qality</td>\n",
       "      <td>BooksQ</td>\n",
       "      <td>2021</td>\n",
       "      <td>3</td>\n",
       "      <td>1</td>\n",
       "      <td>False</td>\n",
       "      <td>Yes</td>\n",
       "    </tr>\n",
       "    <tr>\n",
       "      <th>...</th>\n",
       "      <td>...</td>\n",
       "      <td>...</td>\n",
       "      <td>...</td>\n",
       "      <td>...</td>\n",
       "      <td>...</td>\n",
       "      <td>...</td>\n",
       "      <td>...</td>\n",
       "      <td>...</td>\n",
       "      <td>...</td>\n",
       "      <td>...</td>\n",
       "      <td>...</td>\n",
       "      <td>...</td>\n",
       "      <td>...</td>\n",
       "    </tr>\n",
       "    <tr>\n",
       "      <th>372642</th>\n",
       "      <td>2022-week_52</td>\n",
       "      <td>AD86888898</td>\n",
       "      <td>Extreme DA</td>\n",
       "      <td>US</td>\n",
       "      <td>yes</td>\n",
       "      <td>NaN</td>\n",
       "      <td>Yield</td>\n",
       "      <td>BooksY</td>\n",
       "      <td>2022</td>\n",
       "      <td>5</td>\n",
       "      <td>1</td>\n",
       "      <td>False</td>\n",
       "      <td>Yes</td>\n",
       "    </tr>\n",
       "    <tr>\n",
       "      <th>372772</th>\n",
       "      <td>2022-week_52</td>\n",
       "      <td>AD88688788</td>\n",
       "      <td>Extreme DA</td>\n",
       "      <td>US</td>\n",
       "      <td>yes</td>\n",
       "      <td>NaN</td>\n",
       "      <td>Yield</td>\n",
       "      <td>BooksY</td>\n",
       "      <td>2022</td>\n",
       "      <td>5</td>\n",
       "      <td>1</td>\n",
       "      <td>False</td>\n",
       "      <td>Yes</td>\n",
       "    </tr>\n",
       "    <tr>\n",
       "      <th>372782</th>\n",
       "      <td>2022-week_52</td>\n",
       "      <td>AD88888877</td>\n",
       "      <td>Extreme DA</td>\n",
       "      <td>US</td>\n",
       "      <td>yes</td>\n",
       "      <td>NaN</td>\n",
       "      <td>Yield</td>\n",
       "      <td>BooksY</td>\n",
       "      <td>2022</td>\n",
       "      <td>5</td>\n",
       "      <td>1</td>\n",
       "      <td>False</td>\n",
       "      <td>Yes</td>\n",
       "    </tr>\n",
       "    <tr>\n",
       "      <th>373219</th>\n",
       "      <td>2022-week_52</td>\n",
       "      <td>AD88998888</td>\n",
       "      <td>Extreme DA</td>\n",
       "      <td>US</td>\n",
       "      <td>yes</td>\n",
       "      <td>NaN</td>\n",
       "      <td>Yield</td>\n",
       "      <td>BooksY</td>\n",
       "      <td>2022</td>\n",
       "      <td>5</td>\n",
       "      <td>1</td>\n",
       "      <td>False</td>\n",
       "      <td>Yes</td>\n",
       "    </tr>\n",
       "    <tr>\n",
       "      <th>373444</th>\n",
       "      <td>2022-week_52</td>\n",
       "      <td>AD86887688</td>\n",
       "      <td>Sensor Tower</td>\n",
       "      <td>US</td>\n",
       "      <td>yes</td>\n",
       "      <td>NaN</td>\n",
       "      <td>Qality</td>\n",
       "      <td>UserPopQ</td>\n",
       "      <td>2022</td>\n",
       "      <td>5</td>\n",
       "      <td>1</td>\n",
       "      <td>False</td>\n",
       "      <td>Yes</td>\n",
       "    </tr>\n",
       "  </tbody>\n",
       "</table>\n",
       "<p>1868 rows × 13 columns</p>\n",
       "</div>"
      ],
      "text/plain": [
       "             week_id       ad_id               requester region is_success  \\\n",
       "37      2021-week_33  AD88898888  Search Million Culture     DE        yes   \n",
       "76      2021-week_33  AD88898786   MoJoe Brewing Company     DE        yes   \n",
       "112     2021-week_33  AD88788887  Search Million Culture     DE        yes   \n",
       "162     2021-week_33  AD88887688  Search Million Culture     DE        yes   \n",
       "174     2021-week_33  AD88888876  Search Million Culture     DE        yes   \n",
       "...              ...         ...                     ...    ...        ...   \n",
       "372642  2022-week_52  AD86888898              Extreme DA     US        yes   \n",
       "372772  2022-week_52  AD88688788              Extreme DA     US        yes   \n",
       "372782  2022-week_52  AD88888877              Extreme DA     US        yes   \n",
       "373219  2022-week_52  AD88998888              Extreme DA     US        yes   \n",
       "373444  2022-week_52  AD86887688            Sensor Tower     US        yes   \n",
       "\n",
       "       is_sever recommendation_type rec_provider sample_year  quarter  \\\n",
       "37          NaN              Qality       BooksQ        2021        3   \n",
       "76          NaN               Yield       BooksY        2021        3   \n",
       "112         NaN              Qality       BooksQ        2021        3   \n",
       "162         NaN              Qality       BooksQ        2021        3   \n",
       "174         NaN              Qality       BooksQ        2021        3   \n",
       "...         ...                 ...          ...         ...      ...   \n",
       "372642      NaN               Yield       BooksY        2022        5   \n",
       "372772      NaN               Yield       BooksY        2022        5   \n",
       "372782      NaN               Yield       BooksY        2022        5   \n",
       "373219      NaN               Yield       BooksY        2022        5   \n",
       "373444      NaN              Qality     UserPopQ        2022        5   \n",
       "\n",
       "        new_success_col  is_severe_fixed is_success_capital  \n",
       "37                    1            False                Yes  \n",
       "76                    1            False                Yes  \n",
       "112                   1            False                Yes  \n",
       "162                   1            False                Yes  \n",
       "174                   1            False                Yes  \n",
       "...                 ...              ...                ...  \n",
       "372642                1            False                Yes  \n",
       "372772                1            False                Yes  \n",
       "372782                1            False                Yes  \n",
       "373219                1            False                Yes  \n",
       "373444                1            False                Yes  \n",
       "\n",
       "[1868 rows x 13 columns]"
      ]
     },
     "execution_count": 51,
     "metadata": {},
     "output_type": "execute_result"
    }
   ],
   "source": [
    "def is_mult_over_30(ad_id): #13th question A\n",
    "    tot = 1\n",
    "    for i in ad_id:\n",
    "        if i in ['0','1','2','3','4','5','6','7','8','9']:\n",
    "            tot *= int(i)\n",
    "    return tot > 30 #13th question B\n",
    "ad_recs_annotated[ad_recs_annotated.ad_id.apply(is_mult_over_30)] #13th question C"
   ]
  },
  {
   "cell_type": "markdown",
   "id": "11d8b056-c777-490a-b26d-949ee8755561",
   "metadata": {},
   "source": [
    "### Analysis"
   ]
  },
  {
   "cell_type": "markdown",
   "id": "e6a803ce-e7a5-4f9e-8a37-c3c603dd9331",
   "metadata": {
    "jp-MarkdownHeadingCollapsed": true,
    "tags": []
   },
   "source": [
    "#### Q1 - How many weeks available in the data? Are there any missing weeks?"
   ]
  },
  {
   "cell_type": "code",
   "execution_count": 56,
   "id": "510d9b13-e138-4401-8766-ed14a1ada9ca",
   "metadata": {},
   "outputs": [
    {
     "data": {
      "text/plain": [
       "year  week_number\n",
       "2021  33             1\n",
       "      34             1\n",
       "      35             1\n",
       "      36             1\n",
       "      37             1\n",
       "      38             1\n",
       "      39             1\n",
       "      40             1\n",
       "      41             1\n",
       "      42             1\n",
       "      43             1\n",
       "      44             1\n",
       "      45             1\n",
       "      46             1\n",
       "      47             1\n",
       "      48             1\n",
       "      49             1\n",
       "      50             1\n",
       "      51             1\n",
       "2022  1              1\n",
       "      2              1\n",
       "      3              1\n",
       "      4              1\n",
       "      5              1\n",
       "      6              1\n",
       "      52             1\n",
       "Name: week_id, dtype: int64"
      ]
     },
     "execution_count": 56,
     "metadata": {},
     "output_type": "execute_result"
    }
   ],
   "source": [
    "ad_recs_annotated.groupby(['year','week_number']).week_id.nunique() #1st question - week 52 of 2021 missing."
   ]
  },
  {
   "cell_type": "markdown",
   "id": "113f8d6b-57ad-4144-a2cc-e53a4ed61a57",
   "metadata": {},
   "source": [
    "#### Q2 - How many regions available in the data? Are there any missing weeks per region?"
   ]
  },
  {
   "cell_type": "code",
   "execution_count": 62,
   "id": "e3afe3a6-32e6-4674-9b6a-7337b189cdc4",
   "metadata": {},
   "outputs": [
    {
     "data": {
      "text/plain": [
       "region\n",
       "DE      []\n",
       "GB      []\n",
       "IN      []\n",
       "JP    [51]\n",
       "US      []\n",
       "Name: week_number, dtype: object"
      ]
     },
     "execution_count": 62,
     "metadata": {},
     "output_type": "execute_result"
    }
   ],
   "source": [
    "def find_missing_week_id(week_ids):\n",
    "    missing_weeks = []\n",
    "    for i in range (33, 53):\n",
    "        if i not in week_ids:\n",
    "            missing_weeks.append(i)\n",
    "    return missing_weeks\n",
    "ad_recs_annotated.groupby('region').week_number.unique().apply(find_missing_week_id)"
   ]
  },
  {
   "cell_type": "markdown",
   "id": "22207c37-c22c-4573-bb61-3e81fc38a3d4",
   "metadata": {},
   "source": [
    "#### Q3 - How many ads are being sent to annotation in each region per week?"
   ]
  },
  {
   "cell_type": "code",
   "execution_count": 63,
   "id": "faf6b3b0-f208-4cb2-a143-f40e36c90b6d",
   "metadata": {},
   "outputs": [
    {
     "data": {
      "text/html": [
       "<div>\n",
       "<style scoped>\n",
       "    .dataframe tbody tr th:only-of-type {\n",
       "        vertical-align: middle;\n",
       "    }\n",
       "\n",
       "    .dataframe tbody tr th {\n",
       "        vertical-align: top;\n",
       "    }\n",
       "\n",
       "    .dataframe thead th {\n",
       "        text-align: right;\n",
       "    }\n",
       "</style>\n",
       "<table border=\"1\" class=\"dataframe\">\n",
       "  <thead>\n",
       "    <tr style=\"text-align: right;\">\n",
       "      <th>region</th>\n",
       "      <th>DE</th>\n",
       "      <th>GB</th>\n",
       "      <th>IN</th>\n",
       "      <th>JP</th>\n",
       "      <th>US</th>\n",
       "    </tr>\n",
       "    <tr>\n",
       "      <th>week_id</th>\n",
       "      <th></th>\n",
       "      <th></th>\n",
       "      <th></th>\n",
       "      <th></th>\n",
       "      <th></th>\n",
       "    </tr>\n",
       "  </thead>\n",
       "  <tbody>\n",
       "    <tr>\n",
       "      <th>2021-week_33</th>\n",
       "      <td>2346.0</td>\n",
       "      <td>3062.0</td>\n",
       "      <td>3023.0</td>\n",
       "      <td>1561.0</td>\n",
       "      <td>3832.0</td>\n",
       "    </tr>\n",
       "    <tr>\n",
       "      <th>2021-week_34</th>\n",
       "      <td>2315.0</td>\n",
       "      <td>3090.0</td>\n",
       "      <td>3057.0</td>\n",
       "      <td>1551.0</td>\n",
       "      <td>3909.0</td>\n",
       "    </tr>\n",
       "    <tr>\n",
       "      <th>2021-week_35</th>\n",
       "      <td>2324.0</td>\n",
       "      <td>3073.0</td>\n",
       "      <td>3056.0</td>\n",
       "      <td>1505.0</td>\n",
       "      <td>3888.0</td>\n",
       "    </tr>\n",
       "    <tr>\n",
       "      <th>2021-week_36</th>\n",
       "      <td>2319.0</td>\n",
       "      <td>3070.0</td>\n",
       "      <td>3030.0</td>\n",
       "      <td>1548.0</td>\n",
       "      <td>3868.0</td>\n",
       "    </tr>\n",
       "    <tr>\n",
       "      <th>2021-week_37</th>\n",
       "      <td>2325.0</td>\n",
       "      <td>3036.0</td>\n",
       "      <td>3040.0</td>\n",
       "      <td>1591.0</td>\n",
       "      <td>3868.0</td>\n",
       "    </tr>\n",
       "    <tr>\n",
       "      <th>2021-week_38</th>\n",
       "      <td>2334.0</td>\n",
       "      <td>3049.0</td>\n",
       "      <td>3011.0</td>\n",
       "      <td>1516.0</td>\n",
       "      <td>3899.0</td>\n",
       "    </tr>\n",
       "    <tr>\n",
       "      <th>2021-week_39</th>\n",
       "      <td>2323.0</td>\n",
       "      <td>2996.0</td>\n",
       "      <td>2958.0</td>\n",
       "      <td>1510.0</td>\n",
       "      <td>3920.0</td>\n",
       "    </tr>\n",
       "    <tr>\n",
       "      <th>2021-week_40</th>\n",
       "      <td>2325.0</td>\n",
       "      <td>2958.0</td>\n",
       "      <td>2592.0</td>\n",
       "      <td>1553.0</td>\n",
       "      <td>3908.0</td>\n",
       "    </tr>\n",
       "    <tr>\n",
       "      <th>2021-week_41</th>\n",
       "      <td>2271.0</td>\n",
       "      <td>2984.0</td>\n",
       "      <td>2859.0</td>\n",
       "      <td>1519.0</td>\n",
       "      <td>3901.0</td>\n",
       "    </tr>\n",
       "    <tr>\n",
       "      <th>2021-week_42</th>\n",
       "      <td>2348.0</td>\n",
       "      <td>3025.0</td>\n",
       "      <td>2933.0</td>\n",
       "      <td>1594.0</td>\n",
       "      <td>3911.0</td>\n",
       "    </tr>\n",
       "    <tr>\n",
       "      <th>2021-week_43</th>\n",
       "      <td>2321.0</td>\n",
       "      <td>3029.0</td>\n",
       "      <td>2912.0</td>\n",
       "      <td>1585.0</td>\n",
       "      <td>3907.0</td>\n",
       "    </tr>\n",
       "    <tr>\n",
       "      <th>2021-week_44</th>\n",
       "      <td>2299.0</td>\n",
       "      <td>3072.0</td>\n",
       "      <td>2958.0</td>\n",
       "      <td>1602.0</td>\n",
       "      <td>3913.0</td>\n",
       "    </tr>\n",
       "    <tr>\n",
       "      <th>2021-week_45</th>\n",
       "      <td>2352.0</td>\n",
       "      <td>3126.0</td>\n",
       "      <td>3042.0</td>\n",
       "      <td>1619.0</td>\n",
       "      <td>3929.0</td>\n",
       "    </tr>\n",
       "    <tr>\n",
       "      <th>2021-week_46</th>\n",
       "      <td>2069.0</td>\n",
       "      <td>2912.0</td>\n",
       "      <td>3088.0</td>\n",
       "      <td>1586.0</td>\n",
       "      <td>3934.0</td>\n",
       "    </tr>\n",
       "    <tr>\n",
       "      <th>2021-week_47</th>\n",
       "      <td>2102.0</td>\n",
       "      <td>2532.0</td>\n",
       "      <td>3050.0</td>\n",
       "      <td>1610.0</td>\n",
       "      <td>3930.0</td>\n",
       "    </tr>\n",
       "    <tr>\n",
       "      <th>2021-week_48</th>\n",
       "      <td>2334.0</td>\n",
       "      <td>3042.0</td>\n",
       "      <td>3008.0</td>\n",
       "      <td>1610.0</td>\n",
       "      <td>3905.0</td>\n",
       "    </tr>\n",
       "    <tr>\n",
       "      <th>2021-week_49</th>\n",
       "      <td>2364.0</td>\n",
       "      <td>3106.0</td>\n",
       "      <td>3045.0</td>\n",
       "      <td>1574.0</td>\n",
       "      <td>3836.0</td>\n",
       "    </tr>\n",
       "    <tr>\n",
       "      <th>2021-week_50</th>\n",
       "      <td>2359.0</td>\n",
       "      <td>3139.0</td>\n",
       "      <td>3074.0</td>\n",
       "      <td>1608.0</td>\n",
       "      <td>3830.0</td>\n",
       "    </tr>\n",
       "    <tr>\n",
       "      <th>2021-week_51</th>\n",
       "      <td>2370.0</td>\n",
       "      <td>3114.0</td>\n",
       "      <td>3046.0</td>\n",
       "      <td>NaN</td>\n",
       "      <td>3904.0</td>\n",
       "    </tr>\n",
       "    <tr>\n",
       "      <th>2022-week_01</th>\n",
       "      <td>2356.0</td>\n",
       "      <td>3119.0</td>\n",
       "      <td>3051.0</td>\n",
       "      <td>1588.0</td>\n",
       "      <td>3942.0</td>\n",
       "    </tr>\n",
       "    <tr>\n",
       "      <th>2022-week_02</th>\n",
       "      <td>2366.0</td>\n",
       "      <td>3121.0</td>\n",
       "      <td>3070.0</td>\n",
       "      <td>1610.0</td>\n",
       "      <td>3950.0</td>\n",
       "    </tr>\n",
       "    <tr>\n",
       "      <th>2022-week_03</th>\n",
       "      <td>2346.0</td>\n",
       "      <td>3097.0</td>\n",
       "      <td>3022.0</td>\n",
       "      <td>1569.0</td>\n",
       "      <td>3906.0</td>\n",
       "    </tr>\n",
       "    <tr>\n",
       "      <th>2022-week_04</th>\n",
       "      <td>2324.0</td>\n",
       "      <td>3026.0</td>\n",
       "      <td>3084.0</td>\n",
       "      <td>1577.0</td>\n",
       "      <td>3916.0</td>\n",
       "    </tr>\n",
       "    <tr>\n",
       "      <th>2022-week_05</th>\n",
       "      <td>2364.0</td>\n",
       "      <td>2993.0</td>\n",
       "      <td>3084.0</td>\n",
       "      <td>1604.0</td>\n",
       "      <td>3886.0</td>\n",
       "    </tr>\n",
       "    <tr>\n",
       "      <th>2022-week_06</th>\n",
       "      <td>2368.0</td>\n",
       "      <td>2924.0</td>\n",
       "      <td>3082.0</td>\n",
       "      <td>1601.0</td>\n",
       "      <td>3873.0</td>\n",
       "    </tr>\n",
       "    <tr>\n",
       "      <th>2022-week_52</th>\n",
       "      <td>2338.0</td>\n",
       "      <td>3106.0</td>\n",
       "      <td>3044.0</td>\n",
       "      <td>3172.0</td>\n",
       "      <td>3909.0</td>\n",
       "    </tr>\n",
       "  </tbody>\n",
       "</table>\n",
       "</div>"
      ],
      "text/plain": [
       "region            DE      GB      IN      JP      US\n",
       "week_id                                             \n",
       "2021-week_33  2346.0  3062.0  3023.0  1561.0  3832.0\n",
       "2021-week_34  2315.0  3090.0  3057.0  1551.0  3909.0\n",
       "2021-week_35  2324.0  3073.0  3056.0  1505.0  3888.0\n",
       "2021-week_36  2319.0  3070.0  3030.0  1548.0  3868.0\n",
       "2021-week_37  2325.0  3036.0  3040.0  1591.0  3868.0\n",
       "2021-week_38  2334.0  3049.0  3011.0  1516.0  3899.0\n",
       "2021-week_39  2323.0  2996.0  2958.0  1510.0  3920.0\n",
       "2021-week_40  2325.0  2958.0  2592.0  1553.0  3908.0\n",
       "2021-week_41  2271.0  2984.0  2859.0  1519.0  3901.0\n",
       "2021-week_42  2348.0  3025.0  2933.0  1594.0  3911.0\n",
       "2021-week_43  2321.0  3029.0  2912.0  1585.0  3907.0\n",
       "2021-week_44  2299.0  3072.0  2958.0  1602.0  3913.0\n",
       "2021-week_45  2352.0  3126.0  3042.0  1619.0  3929.0\n",
       "2021-week_46  2069.0  2912.0  3088.0  1586.0  3934.0\n",
       "2021-week_47  2102.0  2532.0  3050.0  1610.0  3930.0\n",
       "2021-week_48  2334.0  3042.0  3008.0  1610.0  3905.0\n",
       "2021-week_49  2364.0  3106.0  3045.0  1574.0  3836.0\n",
       "2021-week_50  2359.0  3139.0  3074.0  1608.0  3830.0\n",
       "2021-week_51  2370.0  3114.0  3046.0     NaN  3904.0\n",
       "2022-week_01  2356.0  3119.0  3051.0  1588.0  3942.0\n",
       "2022-week_02  2366.0  3121.0  3070.0  1610.0  3950.0\n",
       "2022-week_03  2346.0  3097.0  3022.0  1569.0  3906.0\n",
       "2022-week_04  2324.0  3026.0  3084.0  1577.0  3916.0\n",
       "2022-week_05  2364.0  2993.0  3084.0  1604.0  3886.0\n",
       "2022-week_06  2368.0  2924.0  3082.0  1601.0  3873.0\n",
       "2022-week_52  2338.0  3106.0  3044.0  3172.0  3909.0"
      ]
     },
     "execution_count": 63,
     "metadata": {},
     "output_type": "execute_result"
    }
   ],
   "source": [
    "ad_recs_annotated.groupby(['region','week_id']).ad_id.nunique().unstack('region') # 3rd question"
   ]
  },
  {
   "cell_type": "markdown",
   "id": "4900e2c1-1673-4ee7-8e54-b346115c95c0",
   "metadata": {},
   "source": [
    "#### Q4 - How many None values are there in is_sever column?"
   ]
  },
  {
   "cell_type": "code",
   "execution_count": 64,
   "id": "312211c9-80cb-42dd-a864-7c0ffc8dfbe9",
   "metadata": {},
   "outputs": [
    {
     "data": {
      "text/plain": [
       "304195"
      ]
     },
     "execution_count": 64,
     "metadata": {},
     "output_type": "execute_result"
    }
   ],
   "source": [
    "ad_recs_annotated[(ad_recs_annotated.is_sever.isnull())].shape[0] # 4th question"
   ]
  },
  {
   "cell_type": "markdown",
   "id": "4b1169de-a58c-484f-9b7d-e8ae4c8778dc",
   "metadata": {},
   "source": [
    "#### Q5 - Are ads being sent more than one time in a given week? what is the ad_id that was sent the most in a given week? (e.g. ad X where sent 50 times in week Y)"
   ]
  },
  {
   "cell_type": "code",
   "execution_count": 66,
   "id": "ae281134-d1a9-4165-b329-dbbb627add8f",
   "metadata": {},
   "outputs": [
    {
     "data": {
      "text/plain": [
       "'AD07PFFMP9'"
      ]
     },
     "execution_count": 66,
     "metadata": {},
     "output_type": "execute_result"
    }
   ],
   "source": [
    "tmp_data = ad_recs_annotated.groupby(['ad_id','week_id']).size().unstack('week_id').idxmax().to_frame().reset_index().rename(columns={0:\"most_popular_ad_id\"}) # 5th question\n",
    "most_popular_ad_id = ad_recs_annotated.ad_id.value_counts().idxmax() # most popular ad\n",
    "most_popular_ad_id"
   ]
  },
  {
   "cell_type": "markdown",
   "id": "8d167c64-e993-40cf-a4ae-3198c4123cd4",
   "metadata": {},
   "source": [
    "#### Q6"
   ]
  },
  {
   "cell_type": "markdown",
   "id": "29faeebc-0a78-45d5-bde6-9f700a97a710",
   "metadata": {},
   "source": [
    "6. {Are there ads that are being sent in more than one week?}\n",
    "   1. Which is the ad that was sent in most amount of weeks (e.g. ad X where sent in Y different weeks)\n",
    "   2. What are the weeks that the ad from above was sent in? \n",
    "   3. Is there an Ad that was succsefull in one week, but not succesfful in a different week? Show one."
   ]
  },
  {
   "cell_type": "code",
   "execution_count": 69,
   "id": "8ced56d6-c28a-4404-ac02-e30ed4157d5b",
   "metadata": {},
   "outputs": [
    {
     "data": {
      "text/plain": [
       "week_id                26\n",
       "requester               9\n",
       "region                  1\n",
       "is_success              1\n",
       "is_sever                0\n",
       "recommendation_type     2\n",
       "rec_provider            1\n",
       "sample_year             2\n",
       "quarter                 4\n",
       "new_success_col         1\n",
       "is_severe_fixed         1\n",
       "is_success_capital      1\n",
       "year                    2\n",
       "week_number            26\n",
       "Name: AD07PFFMP9, dtype: int64"
      ]
     },
     "execution_count": 69,
     "metadata": {},
     "output_type": "execute_result"
    }
   ],
   "source": [
    "ad_recs_annotated.groupby(['ad_id']).nunique().sort_values(by='week_id', ascending=False).iloc[0] # 6th.A question"
   ]
  },
  {
   "cell_type": "code",
   "execution_count": 70,
   "id": "1ee40a98-4830-4f09-b5ef-5520b40a8ff8",
   "metadata": {},
   "outputs": [
    {
     "data": {
      "text/plain": [
       "array(['2021-week_33', '2021-week_34', '2021-week_35', '2021-week_36',\n",
       "       '2021-week_37', '2021-week_38', '2021-week_39', '2021-week_40',\n",
       "       '2021-week_41', '2021-week_42', '2021-week_43', '2021-week_44',\n",
       "       '2021-week_45', '2021-week_46', '2021-week_47', '2021-week_48',\n",
       "       '2021-week_49', '2021-week_50', '2021-week_51', '2022-week_01',\n",
       "       '2022-week_02', '2022-week_03', '2022-week_04', '2022-week_05',\n",
       "       '2022-week_06', '2022-week_52'], dtype=object)"
      ]
     },
     "execution_count": 70,
     "metadata": {},
     "output_type": "execute_result"
    }
   ],
   "source": [
    "ad_recs_annotated[ad_recs_annotated.ad_id==ad_recs_annotated.groupby(['ad_id']).nunique().sort_values(by='week_id', ascending=False).iloc[0].name].week_id.unique() #6th.B question"
   ]
  },
  {
   "cell_type": "code",
   "execution_count": 71,
   "id": "ebd655b9-3f95-4ff7-842f-3f19334d0906",
   "metadata": {},
   "outputs": [
    {
     "data": {
      "text/html": [
       "<div>\n",
       "<style scoped>\n",
       "    .dataframe tbody tr th:only-of-type {\n",
       "        vertical-align: middle;\n",
       "    }\n",
       "\n",
       "    .dataframe tbody tr th {\n",
       "        vertical-align: top;\n",
       "    }\n",
       "\n",
       "    .dataframe thead th {\n",
       "        text-align: right;\n",
       "    }\n",
       "</style>\n",
       "<table border=\"1\" class=\"dataframe\">\n",
       "  <thead>\n",
       "    <tr style=\"text-align: right;\">\n",
       "      <th></th>\n",
       "      <th>week_id</th>\n",
       "      <th>ad_id</th>\n",
       "      <th>requester</th>\n",
       "      <th>region</th>\n",
       "      <th>is_success</th>\n",
       "      <th>is_sever</th>\n",
       "      <th>recommendation_type</th>\n",
       "      <th>rec_provider</th>\n",
       "      <th>sample_year</th>\n",
       "      <th>quarter</th>\n",
       "      <th>new_success_col</th>\n",
       "      <th>is_severe_fixed</th>\n",
       "      <th>is_success_capital</th>\n",
       "      <th>year</th>\n",
       "      <th>week_number</th>\n",
       "    </tr>\n",
       "  </thead>\n",
       "  <tbody>\n",
       "    <tr>\n",
       "      <th>7323</th>\n",
       "      <td>2021-week_33</td>\n",
       "      <td>AD097GD8GP</td>\n",
       "      <td>Search Million Culture</td>\n",
       "      <td>IN</td>\n",
       "      <td>yes</td>\n",
       "      <td>NaN</td>\n",
       "      <td>Qality</td>\n",
       "      <td>UserPopQ</td>\n",
       "      <td>2021</td>\n",
       "      <td>3</td>\n",
       "      <td>1</td>\n",
       "      <td>False</td>\n",
       "      <td>Yes</td>\n",
       "      <td>2021</td>\n",
       "      <td>33</td>\n",
       "    </tr>\n",
       "    <tr>\n",
       "      <th>7928</th>\n",
       "      <td>2021-week_33</td>\n",
       "      <td>AD097GD8GP</td>\n",
       "      <td>Puentes Company</td>\n",
       "      <td>IN</td>\n",
       "      <td>no</td>\n",
       "      <td>True</td>\n",
       "      <td>Yield</td>\n",
       "      <td>UserPopY</td>\n",
       "      <td>2021</td>\n",
       "      <td>3</td>\n",
       "      <td>0</td>\n",
       "      <td>True</td>\n",
       "      <td>No</td>\n",
       "      <td>2021</td>\n",
       "      <td>33</td>\n",
       "    </tr>\n",
       "    <tr>\n",
       "      <th>20412</th>\n",
       "      <td>2021-week_34</td>\n",
       "      <td>AD097GD8GP</td>\n",
       "      <td>Puentes Company</td>\n",
       "      <td>IN</td>\n",
       "      <td>no</td>\n",
       "      <td>True</td>\n",
       "      <td>Yield</td>\n",
       "      <td>UserPopY</td>\n",
       "      <td>2021</td>\n",
       "      <td>3</td>\n",
       "      <td>0</td>\n",
       "      <td>True</td>\n",
       "      <td>No</td>\n",
       "      <td>2021</td>\n",
       "      <td>34</td>\n",
       "    </tr>\n",
       "    <tr>\n",
       "      <th>21178</th>\n",
       "      <td>2021-week_34</td>\n",
       "      <td>AD097GD8GP</td>\n",
       "      <td>Search Million Culture</td>\n",
       "      <td>IN</td>\n",
       "      <td>yes</td>\n",
       "      <td>NaN</td>\n",
       "      <td>Qality</td>\n",
       "      <td>UserPopQ</td>\n",
       "      <td>2021</td>\n",
       "      <td>3</td>\n",
       "      <td>1</td>\n",
       "      <td>False</td>\n",
       "      <td>Yes</td>\n",
       "      <td>2021</td>\n",
       "      <td>34</td>\n",
       "    </tr>\n",
       "    <tr>\n",
       "      <th>93423</th>\n",
       "      <td>2021-week_39</td>\n",
       "      <td>AD097GD8GP</td>\n",
       "      <td>Puentes Company</td>\n",
       "      <td>IN</td>\n",
       "      <td>no</td>\n",
       "      <td>True</td>\n",
       "      <td>Yield</td>\n",
       "      <td>UserPopY</td>\n",
       "      <td>2021</td>\n",
       "      <td>4</td>\n",
       "      <td>0</td>\n",
       "      <td>True</td>\n",
       "      <td>No</td>\n",
       "      <td>2021</td>\n",
       "      <td>39</td>\n",
       "    </tr>\n",
       "  </tbody>\n",
       "</table>\n",
       "</div>"
      ],
      "text/plain": [
       "            week_id       ad_id               requester region is_success  \\\n",
       "7323   2021-week_33  AD097GD8GP  Search Million Culture     IN        yes   \n",
       "7928   2021-week_33  AD097GD8GP         Puentes Company     IN         no   \n",
       "20412  2021-week_34  AD097GD8GP         Puentes Company     IN         no   \n",
       "21178  2021-week_34  AD097GD8GP  Search Million Culture     IN        yes   \n",
       "93423  2021-week_39  AD097GD8GP         Puentes Company     IN         no   \n",
       "\n",
       "      is_sever recommendation_type rec_provider sample_year  quarter  \\\n",
       "7323       NaN              Qality     UserPopQ        2021        3   \n",
       "7928      True               Yield     UserPopY        2021        3   \n",
       "20412     True               Yield     UserPopY        2021        3   \n",
       "21178      NaN              Qality     UserPopQ        2021        3   \n",
       "93423     True               Yield     UserPopY        2021        4   \n",
       "\n",
       "       new_success_col  is_severe_fixed is_success_capital  year  week_number  \n",
       "7323                 1            False                Yes  2021           33  \n",
       "7928                 0             True                 No  2021           33  \n",
       "20412                0             True                 No  2021           34  \n",
       "21178                1            False                Yes  2021           34  \n",
       "93423                0             True                 No  2021           39  "
      ]
     },
     "execution_count": 71,
     "metadata": {},
     "output_type": "execute_result"
    }
   ],
   "source": [
    "temp=ad_recs_annotated.groupby(['week_id','ad_id','is_success']).size().unstack(['is_success'])# 6th.C question \n",
    "temp = temp.dropna()# 6th.C question \n",
    "temp.iloc[:50]# 6th.C question \n",
    "ad_recs_annotated[ad_recs_annotated.ad_id=='AD097GD8GP'].head(5) # 6th.C question example"
   ]
  },
  {
   "cell_type": "markdown",
   "id": "71763bf3-74f5-4ba8-ab03-9aa9a53762e7",
   "metadata": {},
   "source": [
    "#### Q7 - When is_sever is None, what is the number of successful requests? What is the number of non-successful requests? What do you learn from it about the reason for Nones in the first place?"
   ]
  },
  {
   "cell_type": "code",
   "execution_count": null,
   "id": "bef6ce5b-050b-4d06-b0c6-bab8e3b1f7d7",
   "metadata": {},
   "outputs": [],
   "source": [
    "# ad_recs_annotated[ad_recs_annotated.is_sever == True].is_success.value_counts() #7th question - only 12 'yes', probably typos\n",
    "# ad_recs_annotated.groupby(['region','recommendation_type']).size().apply(lambda row: row / ad_recs_annotated.groupby('region').size().sum())\n",
    "# temp_df = ad_recs_annotated.groupby(['region','recommendation_type']).size().to_frame().rename(columns = {0:'count'}).unstack('recommendation_type')\n",
    "# temp_df"
   ]
  },
  {
   "cell_type": "markdown",
   "id": "840db594-5d86-47aa-b8d6-fcdfef2f799e",
   "metadata": {},
   "source": [
    "#### Q8 - Per each region, What is the Quality/Yield traffic proportion WoW?"
   ]
  },
  {
   "cell_type": "code",
   "execution_count": 72,
   "id": "a7437c40-4093-486c-8240-f6b407b8abe7",
   "metadata": {},
   "outputs": [
    {
     "data": {
      "text/plain": [
       "region  recommendation_type\n",
       "DE      Qality                 0.808900\n",
       "        Yield                  0.191100\n",
       "GB      Qality                 0.836342\n",
       "        Yield                  0.163658\n",
       "IN      Qality                 0.491281\n",
       "        Yield                  0.508719\n",
       "JP      Qality                 0.852067\n",
       "        Yield                  0.147933\n",
       "US      Qality                 0.390511\n",
       "        Yield                  0.609489\n",
       "dtype: float64"
      ]
     },
     "execution_count": 72,
     "metadata": {},
     "output_type": "execute_result"
    }
   ],
   "source": [
    "a = ad_recs_annotated.groupby(['region','recommendation_type']).size() #8th question\n",
    "b = ad_recs_annotated.groupby('region').size() #8th question\n",
    "a.div(b) #8th question"
   ]
  },
  {
   "cell_type": "markdown",
   "id": "8f0098f7-47f4-4e5d-966c-e17d7c86029c",
   "metadata": {},
   "source": [
    "#### Q9 - How many different reqeusters are there?"
   ]
  },
  {
   "cell_type": "code",
   "execution_count": 74,
   "id": "d481cef7-d7f5-4f1e-9ca5-d8b1daf1ee49",
   "metadata": {},
   "outputs": [
    {
     "data": {
      "text/plain": [
       "36"
      ]
     },
     "execution_count": 74,
     "metadata": {},
     "output_type": "execute_result"
    }
   ],
   "source": [
    "ad_recs_annotated.requester.nunique() #9th question"
   ]
  },
  {
   "cell_type": "markdown",
   "id": "4bd0a901-9364-481f-8b0e-71821b698918",
   "metadata": {},
   "source": [
    "#### Q10 - Which are the top 5 requesters per region?"
   ]
  },
  {
   "cell_type": "code",
   "execution_count": 76,
   "id": "ce013e9e-4b36-4f18-ae17-f892a382d4c1",
   "metadata": {},
   "outputs": [
    {
     "data": {
      "text/html": [
       "<div>\n",
       "<style scoped>\n",
       "    .dataframe tbody tr th:only-of-type {\n",
       "        vertical-align: middle;\n",
       "    }\n",
       "\n",
       "    .dataframe tbody tr th {\n",
       "        vertical-align: top;\n",
       "    }\n",
       "\n",
       "    .dataframe thead th {\n",
       "        text-align: right;\n",
       "    }\n",
       "</style>\n",
       "<table border=\"1\" class=\"dataframe\">\n",
       "  <thead>\n",
       "    <tr style=\"text-align: right;\">\n",
       "      <th></th>\n",
       "      <th></th>\n",
       "      <th>requester</th>\n",
       "    </tr>\n",
       "    <tr>\n",
       "      <th>region</th>\n",
       "      <th></th>\n",
       "      <th></th>\n",
       "    </tr>\n",
       "  </thead>\n",
       "  <tbody>\n",
       "    <tr>\n",
       "      <th rowspan=\"5\" valign=\"top\">DE</th>\n",
       "      <th>Search Million Culture</th>\n",
       "      <td>23657</td>\n",
       "    </tr>\n",
       "    <tr>\n",
       "      <th>RelayFoods</th>\n",
       "      <td>17313</td>\n",
       "    </tr>\n",
       "    <tr>\n",
       "      <th>MoJoe Brewing Company</th>\n",
       "      <td>8616</td>\n",
       "    </tr>\n",
       "    <tr>\n",
       "      <th>iDreamsky Technology</th>\n",
       "      <td>3542</td>\n",
       "    </tr>\n",
       "    <tr>\n",
       "      <th>SOLOMO365</th>\n",
       "      <td>2435</td>\n",
       "    </tr>\n",
       "    <tr>\n",
       "      <th rowspan=\"5\" valign=\"top\">GB</th>\n",
       "      <th>Search Million Culture</th>\n",
       "      <td>28002</td>\n",
       "    </tr>\n",
       "    <tr>\n",
       "      <th>RelayFoods</th>\n",
       "      <td>15920</td>\n",
       "    </tr>\n",
       "    <tr>\n",
       "      <th>Fancy</th>\n",
       "      <td>13678</td>\n",
       "    </tr>\n",
       "    <tr>\n",
       "      <th>MoJoe Brewing Company</th>\n",
       "      <td>9530</td>\n",
       "    </tr>\n",
       "    <tr>\n",
       "      <th>iDreamsky Technology</th>\n",
       "      <td>3919</td>\n",
       "    </tr>\n",
       "    <tr>\n",
       "      <th rowspan=\"5\" valign=\"top\">IN</th>\n",
       "      <th>Puentes Company</th>\n",
       "      <td>29427</td>\n",
       "    </tr>\n",
       "    <tr>\n",
       "      <th>Search Million Culture</th>\n",
       "      <td>21365</td>\n",
       "    </tr>\n",
       "    <tr>\n",
       "      <th>RelayFoods</th>\n",
       "      <td>17352</td>\n",
       "    </tr>\n",
       "    <tr>\n",
       "      <th>MoJoe Brewing Company</th>\n",
       "      <td>7191</td>\n",
       "    </tr>\n",
       "    <tr>\n",
       "      <th>iDreamsky Technology</th>\n",
       "      <td>1995</td>\n",
       "    </tr>\n",
       "    <tr>\n",
       "      <th rowspan=\"5\" valign=\"top\">JP</th>\n",
       "      <th>RelayFoods</th>\n",
       "      <td>24574</td>\n",
       "    </tr>\n",
       "    <tr>\n",
       "      <th>Search Million Culture</th>\n",
       "      <td>7906</td>\n",
       "    </tr>\n",
       "    <tr>\n",
       "      <th>MoJoe Brewing Company</th>\n",
       "      <td>3549</td>\n",
       "    </tr>\n",
       "    <tr>\n",
       "      <th>LocalVox Media</th>\n",
       "      <td>1724</td>\n",
       "    </tr>\n",
       "    <tr>\n",
       "      <th>Tab Solutions</th>\n",
       "      <td>1366</td>\n",
       "    </tr>\n",
       "    <tr>\n",
       "      <th rowspan=\"5\" valign=\"top\">US</th>\n",
       "      <th>Extreme DA</th>\n",
       "      <td>57215</td>\n",
       "    </tr>\n",
       "    <tr>\n",
       "      <th>Fancy</th>\n",
       "      <td>18668</td>\n",
       "    </tr>\n",
       "    <tr>\n",
       "      <th>Tab Solutions</th>\n",
       "      <td>9790</td>\n",
       "    </tr>\n",
       "    <tr>\n",
       "      <th>Search Million Culture</th>\n",
       "      <td>5610</td>\n",
       "    </tr>\n",
       "    <tr>\n",
       "      <th>Sensor Tower</th>\n",
       "      <td>3503</td>\n",
       "    </tr>\n",
       "  </tbody>\n",
       "</table>\n",
       "</div>"
      ],
      "text/plain": [
       "                               requester\n",
       "region                                  \n",
       "DE     Search Million Culture      23657\n",
       "       RelayFoods                  17313\n",
       "       MoJoe Brewing Company        8616\n",
       "       iDreamsky Technology         3542\n",
       "       SOLOMO365                    2435\n",
       "GB     Search Million Culture      28002\n",
       "       RelayFoods                  15920\n",
       "       Fancy                       13678\n",
       "       MoJoe Brewing Company        9530\n",
       "       iDreamsky Technology         3919\n",
       "IN     Puentes Company             29427\n",
       "       Search Million Culture      21365\n",
       "       RelayFoods                  17352\n",
       "       MoJoe Brewing Company        7191\n",
       "       iDreamsky Technology         1995\n",
       "JP     RelayFoods                  24574\n",
       "       Search Million Culture       7906\n",
       "       MoJoe Brewing Company        3549\n",
       "       LocalVox Media               1724\n",
       "       Tab Solutions                1366\n",
       "US     Extreme DA                  57215\n",
       "       Fancy                       18668\n",
       "       Tab Solutions                9790\n",
       "       Search Million Culture       5610\n",
       "       Sensor Tower                 3503"
      ]
     },
     "execution_count": 76,
     "metadata": {},
     "output_type": "execute_result"
    }
   ],
   "source": [
    "ad_recs_annotated.groupby('region').apply(lambda grp: grp.requester.value_counts().head(5)).to_frame() # 10th question"
   ]
  },
  {
   "cell_type": "markdown",
   "id": "bbcedf34-0052-4acd-87f4-63b7696c780a",
   "metadata": {},
   "source": [
    "#### Q11 - Which are the different rec_proivders?"
   ]
  },
  {
   "cell_type": "code",
   "execution_count": 77,
   "id": "56d786dc-ad43-4dfe-89a1-b95508b3a373",
   "metadata": {},
   "outputs": [
    {
     "data": {
      "text/plain": [
       "array(['DNNQ', 'DNNY', 'BooksQ', 'UserPopQ', 'UserPopY', 'RuleBasedY',\n",
       "       'ManualY', 'ManualQ', 'BooksY', 'XGBQ', 'XGBY', 'RNNQ', 'RNNY',\n",
       "       'RuleBased', 'UserPopSelectionQ', 'UserPopSelectionY'],\n",
       "      dtype=object)"
      ]
     },
     "execution_count": 77,
     "metadata": {},
     "output_type": "execute_result"
    }
   ],
   "source": [
    "ad_recs_annotated.rec_provider.unique() # 11th question"
   ]
  },
  {
   "cell_type": "markdown",
   "id": "3d8dd0aa-b175-402b-b05d-cd1f549b0f0b",
   "metadata": {},
   "source": [
    "#### Q12 - Are there different rec providers per region?"
   ]
  },
  {
   "cell_type": "code",
   "execution_count": 78,
   "id": "8465b48f-8841-4dbf-8715-e8e0b8b4ecab",
   "metadata": {},
   "outputs": [
    {
     "data": {
      "text/plain": [
       "region\n",
       "DE    [DNNQ, DNNY, BooksQ, UserPopQ, UserPopY, RuleB...\n",
       "GB    [DNNY, XGBQ, DNNQ, XGBY, RNNQ, UserPopQ, Manua...\n",
       "IN    [UserPopY, RuleBasedY, UserPopQ, ManualY, Manu...\n",
       "JP    [ManualQ, UserPopQ, RuleBasedY, DNNQ, ManualY,...\n",
       "US    [DNNY, ManualQ, DNNQ, UserPopY, XGBY, RNNY, Ma...\n",
       "dtype: object"
      ]
     },
     "execution_count": 78,
     "metadata": {},
     "output_type": "execute_result"
    }
   ],
   "source": [
    "ad_recs_annotated.groupby('region').apply(lambda grp: grp.rec_provider.unique()) # 12th question, answer's yes."
   ]
  },
  {
   "cell_type": "markdown",
   "id": "098007c0-8a25-40d9-891f-ffbb17c62350",
   "metadata": {},
   "source": [
    "#### Q13 - Are there different rec providers per rec type?"
   ]
  },
  {
   "cell_type": "code",
   "execution_count": 79,
   "id": "8ab5a00c-93b6-4a99-abc0-302427db26c8",
   "metadata": {},
   "outputs": [
    {
     "data": {
      "text/plain": [
       "recommendation_type\n",
       "Qality    [DNNQ, BooksQ, UserPopQ, ManualY, ManualQ, XGB...\n",
       "Yield     [DNNY, UserPopY, RuleBasedY, BooksY, ManualY, ...\n",
       "dtype: object"
      ]
     },
     "execution_count": 79,
     "metadata": {},
     "output_type": "execute_result"
    }
   ],
   "source": [
    "ad_recs_annotated.groupby('recommendation_type').apply(lambda grp: grp.rec_provider.unique()) # 13th question, answer's yes."
   ]
  },
  {
   "cell_type": "markdown",
   "id": "a0c6e819-6d91-498a-a56a-ec5ba5a74e51",
   "metadata": {},
   "source": [
    "#### Q14 - What are the notation rules distinguishing between quality vs yielding providers? (quality providers end in 'q'?)"
   ]
  },
  {
   "cell_type": "code",
   "execution_count": 80,
   "id": "c96d04fe-264f-4713-99e2-82f1e9a1a29b",
   "metadata": {},
   "outputs": [
    {
     "data": {
      "text/plain": [
       "recommendation_type\n",
       "Qality    [DNNQ, BooksQ, UserPopQ, ManualY, ManualQ, XGB...\n",
       "Yield     [DNNY, UserPopY, RuleBasedY, BooksY, ManualY, ...\n",
       "Name: rec_provider, dtype: object"
      ]
     },
     "execution_count": 80,
     "metadata": {},
     "output_type": "execute_result"
    }
   ],
   "source": [
    "ad_recs_annotated.groupby('recommendation_type').rec_provider.unique() # 14th question. generally end in Q if quality, or Y if yield."
   ]
  },
  {
   "cell_type": "markdown",
   "id": "ecec4820-3bef-4f12-b806-fc7f49c7bb2d",
   "metadata": {},
   "source": [
    "#### Q15 - Which is the most successful region of operation?"
   ]
  },
  {
   "cell_type": "code",
   "execution_count": 81,
   "id": "936d58ec-b525-45f4-8c4a-395548b65765",
   "metadata": {},
   "outputs": [
    {
     "data": {
      "text/plain": [
       "region\n",
       "US    88918\n",
       "Name: region, dtype: int64"
      ]
     },
     "execution_count": 81,
     "metadata": {},
     "output_type": "execute_result"
    }
   ],
   "source": [
    "ad_recs_annotated.groupby('is_success').region.value_counts()['yes'].head(1) # 15th question"
   ]
  },
  {
   "cell_type": "markdown",
   "id": "4c1b14d8-bccc-4f41-b69a-c42c1f9ee1dd",
   "metadata": {},
   "source": [
    "#### Q16 - Which is the most successful rec provider per each region?"
   ]
  },
  {
   "cell_type": "code",
   "execution_count": 83,
   "id": "27a66993-3275-457f-9dd3-aecf95d09da9",
   "metadata": {},
   "outputs": [
    {
     "data": {
      "text/html": [
       "<div>\n",
       "<style scoped>\n",
       "    .dataframe tbody tr th:only-of-type {\n",
       "        vertical-align: middle;\n",
       "    }\n",
       "\n",
       "    .dataframe tbody tr th {\n",
       "        vertical-align: top;\n",
       "    }\n",
       "\n",
       "    .dataframe thead th {\n",
       "        text-align: right;\n",
       "    }\n",
       "</style>\n",
       "<table border=\"1\" class=\"dataframe\">\n",
       "  <thead>\n",
       "    <tr style=\"text-align: right;\">\n",
       "      <th></th>\n",
       "      <th></th>\n",
       "      <th>rec_provider</th>\n",
       "    </tr>\n",
       "    <tr>\n",
       "      <th>region</th>\n",
       "      <th></th>\n",
       "      <th></th>\n",
       "    </tr>\n",
       "  </thead>\n",
       "  <tbody>\n",
       "    <tr>\n",
       "      <th>DE</th>\n",
       "      <th>DNNQ</th>\n",
       "      <td>27215</td>\n",
       "    </tr>\n",
       "    <tr>\n",
       "      <th>GB</th>\n",
       "      <th>DNNQ</th>\n",
       "      <td>34681</td>\n",
       "    </tr>\n",
       "    <tr>\n",
       "      <th>IN</th>\n",
       "      <th>UserPopQ</th>\n",
       "      <td>30407</td>\n",
       "    </tr>\n",
       "    <tr>\n",
       "      <th>JP</th>\n",
       "      <th>DNNQ</th>\n",
       "      <td>20113</td>\n",
       "    </tr>\n",
       "    <tr>\n",
       "      <th>US</th>\n",
       "      <th>DNNY</th>\n",
       "      <td>25705</td>\n",
       "    </tr>\n",
       "  </tbody>\n",
       "</table>\n",
       "</div>"
      ],
      "text/plain": [
       "                 rec_provider\n",
       "region                       \n",
       "DE     DNNQ             27215\n",
       "GB     DNNQ             34681\n",
       "IN     UserPopQ         30407\n",
       "JP     DNNQ             20113\n",
       "US     DNNY             25705"
      ]
     },
     "execution_count": 83,
     "metadata": {},
     "output_type": "execute_result"
    }
   ],
   "source": [
    "ad_recs_annotated[ad_recs_annotated.is_success=='yes'].groupby(['region']).apply(lambda grp: grp.rec_provider.value_counts().head(1)).to_frame() # 16th question"
   ]
  },
  {
   "cell_type": "markdown",
   "id": "5f096870-47d5-4ea8-9861-40726d462390",
   "metadata": {},
   "source": [
    "#### Q21 - Present a table with a success rate, sever defects rate and CI (for each metric) per rec type and region"
   ]
  },
  {
   "cell_type": "code",
   "execution_count": 88,
   "id": "502e2a6d-6d34-404c-ba5f-7c9e74998a12",
   "metadata": {
    "tags": []
   },
   "outputs": [],
   "source": [
    "import numpy as np\n",
    "import math\n",
    "from scipy import stats\n",
    "def estimate_head_probability(head_prob, n_samples, alpha):\n",
    "    n_sided = 2\n",
    "    one_trail = np.random.rand(n_samples) < head_prob\n",
    "    estimated_head_prob = sum(one_trail) / n_samples\n",
    "    #standard_error = math.sqrt(head_prob * (1-head_prob) / n_samples)\n",
    "    estimated_standard_error = math.sqrt(estimated_head_prob * (1-estimated_head_prob) / n_samples)\n",
    "    z_crit = stats.norm.ppf(1-alpha/n_sided)\n",
    "    confidance_interval = (estimated_head_prob - z_crit * estimated_standard_error, estimated_head_prob + z_crit * estimated_standard_error)\n",
    "    return estimated_head_prob, confidance_interval\n",
    "def estimate_head_probability_for_graph(head_prob, n_samples, alpha):\n",
    "    n_sided = 2\n",
    "    one_trail = np.random.rand(n_samples) < head_prob\n",
    "    estimated_head_prob = sum(one_trail) / n_samples\n",
    "    estimated_standard_error = math.sqrt(estimated_head_prob * (1-estimated_head_prob) / n_samples)\n",
    "    z_crit = stats.norm.ppf(1-alpha/n_sided)\n",
    "    confidance_interval_half_len = z_crit * estimated_standard_error\n",
    "    return confidance_interval_half_len\n",
    "alpha = 0.01\n",
    "estimated_head_prob, confidance_interval = estimate_head_probability(0.6, 100, alpha)"
   ]
  },
  {
   "cell_type": "code",
   "execution_count": 89,
   "id": "ad3c176b-e091-4f94-a4e9-0cb0083cdb06",
   "metadata": {},
   "outputs": [
    {
     "data": {
      "text/html": [
       "<div>\n",
       "<style scoped>\n",
       "    .dataframe tbody tr th:only-of-type {\n",
       "        vertical-align: middle;\n",
       "    }\n",
       "\n",
       "    .dataframe tbody tr th {\n",
       "        vertical-align: top;\n",
       "    }\n",
       "\n",
       "    .dataframe thead th {\n",
       "        text-align: right;\n",
       "    }\n",
       "</style>\n",
       "<table border=\"1\" class=\"dataframe\">\n",
       "  <thead>\n",
       "    <tr style=\"text-align: right;\">\n",
       "      <th></th>\n",
       "      <th></th>\n",
       "      <th>success_rate</th>\n",
       "      <th>success_rate_CI</th>\n",
       "      <th>severe_defects_rate</th>\n",
       "      <th>severe_defects_CI</th>\n",
       "    </tr>\n",
       "    <tr>\n",
       "      <th>recommendation_type</th>\n",
       "      <th>region</th>\n",
       "      <th></th>\n",
       "      <th></th>\n",
       "      <th></th>\n",
       "      <th></th>\n",
       "    </tr>\n",
       "  </thead>\n",
       "  <tbody>\n",
       "    <tr>\n",
       "      <th rowspan=\"5\" valign=\"top\">Qality</th>\n",
       "      <th>DE</th>\n",
       "      <td>0.806681</td>\n",
       "      <td>(0.8021448961398179, 0.8112162729624786)</td>\n",
       "      <td>0.121503</td>\n",
       "      <td>(0.11775065038688445, 0.12525561266113225)</td>\n",
       "    </tr>\n",
       "    <tr>\n",
       "      <th>GB</th>\n",
       "      <td>0.850367</td>\n",
       "      <td>(0.8468789499599271, 0.8538544477318154)</td>\n",
       "      <td>0.108295</td>\n",
       "      <td>(0.10525664539129584, 0.11133341555707815)</td>\n",
       "    </tr>\n",
       "    <tr>\n",
       "      <th>IN</th>\n",
       "      <td>0.806129</td>\n",
       "      <td>(0.8010913201825111, 0.8111675655513576)</td>\n",
       "      <td>0.088980</td>\n",
       "      <td>(0.08535129140049501, 0.09260817202846809)</td>\n",
       "    </tr>\n",
       "    <tr>\n",
       "      <th>JP</th>\n",
       "      <td>0.777806</td>\n",
       "      <td>(0.7721201340158229, 0.7834918088074875)</td>\n",
       "      <td>0.156587</td>\n",
       "      <td>(0.15161704525857425, 0.16155783985236769)</td>\n",
       "    </tr>\n",
       "    <tr>\n",
       "      <th>US</th>\n",
       "      <td>0.899070</td>\n",
       "      <td>(0.8952172388739428, 0.9029234658827954)</td>\n",
       "      <td>0.074470</td>\n",
       "      <td>(0.07111235316379799, 0.07782853900200973)</td>\n",
       "    </tr>\n",
       "    <tr>\n",
       "      <th rowspan=\"5\" valign=\"top\">Yield</th>\n",
       "      <th>DE</th>\n",
       "      <td>0.845986</td>\n",
       "      <td>(0.8374558088934787, 0.8545152397515305)</td>\n",
       "      <td>0.080121</td>\n",
       "      <td>(0.07370597528937695, 0.08653640814775485)</td>\n",
       "    </tr>\n",
       "    <tr>\n",
       "      <th>GB</th>\n",
       "      <td>0.772476</td>\n",
       "      <td>(0.7632099368950809, 0.7817425702840664)</td>\n",
       "      <td>0.177675</td>\n",
       "      <td>(0.16922607176053078, 0.18612331340992794)</td>\n",
       "    </tr>\n",
       "    <tr>\n",
       "      <th>IN</th>\n",
       "      <td>0.719186</td>\n",
       "      <td>(0.7135576908201734, 0.7248140173732925)</td>\n",
       "      <td>0.191504</td>\n",
       "      <td>(0.18657601875230262, 0.1964318768554701)</td>\n",
       "    </tr>\n",
       "    <tr>\n",
       "      <th>JP</th>\n",
       "      <td>0.683988</td>\n",
       "      <td>(0.6687276536774429, 0.6992489621069027)</td>\n",
       "      <td>0.146639</td>\n",
       "      <td>(0.13502703339577798, 0.15825000460357247)</td>\n",
       "    </tr>\n",
       "    <tr>\n",
       "      <th>US</th>\n",
       "      <td>0.828812</td>\n",
       "      <td>(0.8249554392914834, 0.8326686265609805)</td>\n",
       "      <td>0.102444</td>\n",
       "      <td>(0.09933953109369845, 0.10554884518803886)</td>\n",
       "    </tr>\n",
       "  </tbody>\n",
       "</table>\n",
       "</div>"
      ],
      "text/plain": [
       "                            success_rate  \\\n",
       "recommendation_type region                 \n",
       "Qality              DE          0.806681   \n",
       "                    GB          0.850367   \n",
       "                    IN          0.806129   \n",
       "                    JP          0.777806   \n",
       "                    US          0.899070   \n",
       "Yield               DE          0.845986   \n",
       "                    GB          0.772476   \n",
       "                    IN          0.719186   \n",
       "                    JP          0.683988   \n",
       "                    US          0.828812   \n",
       "\n",
       "                                                     success_rate_CI  \\\n",
       "recommendation_type region                                             \n",
       "Qality              DE      (0.8021448961398179, 0.8112162729624786)   \n",
       "                    GB      (0.8468789499599271, 0.8538544477318154)   \n",
       "                    IN      (0.8010913201825111, 0.8111675655513576)   \n",
       "                    JP      (0.7721201340158229, 0.7834918088074875)   \n",
       "                    US      (0.8952172388739428, 0.9029234658827954)   \n",
       "Yield               DE      (0.8374558088934787, 0.8545152397515305)   \n",
       "                    GB      (0.7632099368950809, 0.7817425702840664)   \n",
       "                    IN      (0.7135576908201734, 0.7248140173732925)   \n",
       "                    JP      (0.6687276536774429, 0.6992489621069027)   \n",
       "                    US      (0.8249554392914834, 0.8326686265609805)   \n",
       "\n",
       "                            severe_defects_rate  \\\n",
       "recommendation_type region                        \n",
       "Qality              DE                 0.121503   \n",
       "                    GB                 0.108295   \n",
       "                    IN                 0.088980   \n",
       "                    JP                 0.156587   \n",
       "                    US                 0.074470   \n",
       "Yield               DE                 0.080121   \n",
       "                    GB                 0.177675   \n",
       "                    IN                 0.191504   \n",
       "                    JP                 0.146639   \n",
       "                    US                 0.102444   \n",
       "\n",
       "                                                     severe_defects_CI  \n",
       "recommendation_type region                                              \n",
       "Qality              DE      (0.11775065038688445, 0.12525561266113225)  \n",
       "                    GB      (0.10525664539129584, 0.11133341555707815)  \n",
       "                    IN      (0.08535129140049501, 0.09260817202846809)  \n",
       "                    JP      (0.15161704525857425, 0.16155783985236769)  \n",
       "                    US      (0.07111235316379799, 0.07782853900200973)  \n",
       "Yield               DE      (0.07370597528937695, 0.08653640814775485)  \n",
       "                    GB      (0.16922607176053078, 0.18612331340992794)  \n",
       "                    IN       (0.18657601875230262, 0.1964318768554701)  \n",
       "                    JP      (0.13502703339577798, 0.15825000460357247)  \n",
       "                    US      (0.09933953109369845, 0.10554884518803886)  "
      ]
     },
     "execution_count": 89,
     "metadata": {},
     "output_type": "execute_result"
    }
   ],
   "source": [
    "q21_success_rate_df = ad_recs_annotated.groupby(['recommendation_type','region']).new_success_col.mean().to_frame().rename(columns={\"new_success_col\": \"success_rate\"})\n",
    "q21_success_rate_df['success_rate_CI'] = ad_recs_annotated.groupby(['recommendation_type','region']).new_success_col.apply(lambda row: estimate_head_probability(row, row.shape[0], 0.01)[1])\n",
    "q21_success_rate_df['severe_defects_rate'] = ad_recs_annotated.groupby(['recommendation_type','region']).is_severe_fixed.mean()\n",
    "q21_success_rate_df['severe_defects_CI'] = ad_recs_annotated.groupby(['recommendation_type','region']).is_severe_fixed.apply(lambda row: estimate_head_probability(row, row.shape[0], 0.01)[1])\n",
    "q21_success_rate_df"
   ]
  },
  {
   "cell_type": "markdown",
   "id": "9488c277-ece2-4017-b9f8-a356d051699a",
   "metadata": {},
   "source": [
    "#### Q24 - Present WoW table/graph with success rate and CI (see image below) per region and rec provider"
   ]
  },
  {
   "cell_type": "code",
   "execution_count": 92,
   "id": "6d721bff-99bb-4a31-b992-15d1f54952f6",
   "metadata": {},
   "outputs": [
    {
     "data": {
      "text/html": [
       "<div>\n",
       "<style scoped>\n",
       "    .dataframe tbody tr th:only-of-type {\n",
       "        vertical-align: middle;\n",
       "    }\n",
       "\n",
       "    .dataframe tbody tr th {\n",
       "        vertical-align: top;\n",
       "    }\n",
       "\n",
       "    .dataframe thead tr th {\n",
       "        text-align: left;\n",
       "    }\n",
       "\n",
       "    .dataframe thead tr:last-of-type th {\n",
       "        text-align: right;\n",
       "    }\n",
       "</style>\n",
       "<table border=\"1\" class=\"dataframe\">\n",
       "  <thead>\n",
       "    <tr>\n",
       "      <th></th>\n",
       "      <th colspan=\"2\" halign=\"left\">success_rate</th>\n",
       "      <th colspan=\"2\" halign=\"left\">success_rate_CI</th>\n",
       "      <th colspan=\"2\" halign=\"left\">severe_defects_rate</th>\n",
       "      <th colspan=\"2\" halign=\"left\">severe_defects_CI</th>\n",
       "    </tr>\n",
       "    <tr>\n",
       "      <th>recommendation_type</th>\n",
       "      <th>Qality</th>\n",
       "      <th>Yield</th>\n",
       "      <th>Qality</th>\n",
       "      <th>Yield</th>\n",
       "      <th>Qality</th>\n",
       "      <th>Yield</th>\n",
       "      <th>Qality</th>\n",
       "      <th>Yield</th>\n",
       "    </tr>\n",
       "    <tr>\n",
       "      <th>region</th>\n",
       "      <th></th>\n",
       "      <th></th>\n",
       "      <th></th>\n",
       "      <th></th>\n",
       "      <th></th>\n",
       "      <th></th>\n",
       "      <th></th>\n",
       "      <th></th>\n",
       "    </tr>\n",
       "  </thead>\n",
       "  <tbody>\n",
       "    <tr>\n",
       "      <th>DE</th>\n",
       "      <td>0.806681</td>\n",
       "      <td>0.845986</td>\n",
       "      <td>0.004536</td>\n",
       "      <td>0.008530</td>\n",
       "      <td>0.121503</td>\n",
       "      <td>0.080121</td>\n",
       "      <td>0.003752</td>\n",
       "      <td>0.006415</td>\n",
       "    </tr>\n",
       "    <tr>\n",
       "      <th>GB</th>\n",
       "      <td>0.850367</td>\n",
       "      <td>0.772476</td>\n",
       "      <td>0.003488</td>\n",
       "      <td>0.009266</td>\n",
       "      <td>0.108295</td>\n",
       "      <td>0.177675</td>\n",
       "      <td>0.003038</td>\n",
       "      <td>0.008449</td>\n",
       "    </tr>\n",
       "    <tr>\n",
       "      <th>IN</th>\n",
       "      <td>0.806129</td>\n",
       "      <td>0.719186</td>\n",
       "      <td>0.005038</td>\n",
       "      <td>0.005628</td>\n",
       "      <td>0.088980</td>\n",
       "      <td>0.191504</td>\n",
       "      <td>0.003628</td>\n",
       "      <td>0.004928</td>\n",
       "    </tr>\n",
       "    <tr>\n",
       "      <th>JP</th>\n",
       "      <td>0.777806</td>\n",
       "      <td>0.683988</td>\n",
       "      <td>0.005686</td>\n",
       "      <td>0.015261</td>\n",
       "      <td>0.156587</td>\n",
       "      <td>0.146639</td>\n",
       "      <td>0.004970</td>\n",
       "      <td>0.011611</td>\n",
       "    </tr>\n",
       "    <tr>\n",
       "      <th>US</th>\n",
       "      <td>0.899070</td>\n",
       "      <td>0.828812</td>\n",
       "      <td>0.003853</td>\n",
       "      <td>0.003857</td>\n",
       "      <td>0.074470</td>\n",
       "      <td>0.102444</td>\n",
       "      <td>0.003358</td>\n",
       "      <td>0.003105</td>\n",
       "    </tr>\n",
       "  </tbody>\n",
       "</table>\n",
       "</div>"
      ],
      "text/plain": [
       "                    success_rate           success_rate_CI            \\\n",
       "recommendation_type       Qality     Yield          Qality     Yield   \n",
       "region                                                                 \n",
       "DE                      0.806681  0.845986        0.004536  0.008530   \n",
       "GB                      0.850367  0.772476        0.003488  0.009266   \n",
       "IN                      0.806129  0.719186        0.005038  0.005628   \n",
       "JP                      0.777806  0.683988        0.005686  0.015261   \n",
       "US                      0.899070  0.828812        0.003853  0.003857   \n",
       "\n",
       "                    severe_defects_rate           severe_defects_CI            \n",
       "recommendation_type              Qality     Yield            Qality     Yield  \n",
       "region                                                                         \n",
       "DE                             0.121503  0.080121          0.003752  0.006415  \n",
       "GB                             0.108295  0.177675          0.003038  0.008449  \n",
       "IN                             0.088980  0.191504          0.003628  0.004928  \n",
       "JP                             0.156587  0.146639          0.004970  0.011611  \n",
       "US                             0.074470  0.102444          0.003358  0.003105  "
      ]
     },
     "execution_count": 92,
     "metadata": {},
     "output_type": "execute_result"
    }
   ],
   "source": [
    "q24_success_rate_df = ad_recs_annotated.groupby(['recommendation_type','region']).new_success_col.mean().to_frame().rename(columns={\"new_success_col\": \"success_rate\"})\n",
    "q24_success_rate_df['success_rate_CI'] = ad_recs_annotated.groupby(['recommendation_type','region']).new_success_col.apply(lambda row: estimate_head_probability_for_graph(row, row.shape[0], 0.01))\n",
    "q24_success_rate_df['severe_defects_rate'] = ad_recs_annotated.groupby(['recommendation_type','region']).is_severe_fixed.mean()\n",
    "q24_success_rate_df['severe_defects_CI'] = ad_recs_annotated.groupby(['recommendation_type','region']).is_severe_fixed.apply(lambda row: estimate_head_probability_for_graph(row, row.shape[0], 0.01))\n",
    "q24_success_rate_df = q24_success_rate_df.unstack(['recommendation_type'])\n",
    "q24_success_rate_df.reset_index()\n",
    "q24_success_rate_df.index\n",
    "q24_success_rate_df\n",
    "# px.line(q24_success_rate_df, x='region', y='success_rate')"
   ]
  }
 ],
 "metadata": {
  "kernelspec": {
   "display_name": "Python 3 (ipykernel)",
   "language": "python",
   "name": "python3"
  },
  "language_info": {
   "codemirror_mode": {
    "name": "ipython",
    "version": 3
   },
   "file_extension": ".py",
   "mimetype": "text/x-python",
   "name": "python",
   "nbconvert_exporter": "python",
   "pygments_lexer": "ipython3",
   "version": "3.9.7"
  }
 },
 "nbformat": 4,
 "nbformat_minor": 5
}
